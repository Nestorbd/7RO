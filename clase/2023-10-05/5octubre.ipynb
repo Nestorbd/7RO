{
 "cells": [
  {
   "cell_type": "code",
   "execution_count": null,
   "metadata": {},
   "outputs": [],
   "source": [
    "# Demostración de que \"del\" borra por índice\n",
    "\n",
    "v = [24, 35, 67, 34, 324, 77, 14, 2, 55, 14]\n",
    "\n",
    "for index in reversed(range(len(v))):\n",
    "    del v[index]\n",
    "    print(v)"
   ]
  },
  {
   "cell_type": "code",
   "execution_count": null,
   "metadata": {},
   "outputs": [],
   "source": [
    "# Algoritmo de inserción (https://juncotic.com/ordenamiento-por-insercion-algoritmos-de-ordenamiento/)\n",
    "# Mi humilde intento\n",
    "\n",
    "v = [24, 35, 67, 34, 324, 77, 14, 2, 55, 14]\n",
    "\n",
    "for index in range(1, len(v)):\n",
    "    numero = v.pop(index)\n",
    "    for j in range(index-1):\n",
    "        if numero >= v[j]:\n",
    "            print(j)\n",
    "    "
   ]
  },
  {
   "cell_type": "code",
   "execution_count": null,
   "metadata": {},
   "outputs": [],
   "source": [
    "# Algoritmo de inserción (https://juncotic.com/ordenamiento-por-insercion-algoritmos-de-ordenamiento/)\n",
    "# Versión Ayoze (alumno)\n",
    "\n",
    "desordenado = [24,35,67,34,324,77,14,2,55,14]\n",
    "\n",
    "print(\"inicio:\", desordenado)\n",
    "\n",
    "for i in range(len(desordenado)):\n",
    "    aux = (desordenado[i])\n",
    "    print(\"coge\", aux)\n",
    "    for j in range(i+1):\n",
    "        if desordenado[j] >= aux:\n",
    "            desordenado.pop(i)\n",
    "            desordenado.insert(j,aux)\n",
    "            break\n",
    "    print(\"paso\", str(i)+\": \", desordenado)"
   ]
  },
  {
   "cell_type": "code",
   "execution_count": null,
   "metadata": {},
   "outputs": [],
   "source": [
    "# Algoritmo de inserción (https://juncotic.com/ordenamiento-por-insercion-algoritmos-de-ordenamiento/)\n",
    "# Versión de Carlos\n",
    "\n",
    "v=[24,35,67,34,324,77,14,2,55,14]\n",
    "print(v)\n",
    "k=1\n",
    "while k<len(v):\n",
    "    temp=v.pop(k) # elimina el elemento que ocupa la posición k \n",
    "    t=0\n",
    "    r=0\n",
    "    while t<=k-1:\n",
    "        if temp>=v[t]:\n",
    "            r+=1\n",
    "        t+=1\n",
    "    v.insert(r,temp)\n",
    "    k+=1\n",
    "    print(v)"
   ]
  }
 ],
 "metadata": {
  "kernelspec": {
   "display_name": "Python 3",
   "language": "python",
   "name": "python3"
  },
  "language_info": {
   "codemirror_mode": {
    "name": "ipython",
    "version": 3
   },
   "file_extension": ".py",
   "mimetype": "text/x-python",
   "name": "python",
   "nbconvert_exporter": "python",
   "pygments_lexer": "ipython3",
   "version": "3.11.6"
  },
  "orig_nbformat": 4
 },
 "nbformat": 4,
 "nbformat_minor": 2
}
