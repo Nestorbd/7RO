{
  "cells": [
    {
      "cell_type": "markdown",
      "metadata": {
        "id": "PVwV-HhAEB0s"
      },
      "source": [
        "# Nueva sección"
      ]
    },
    {
      "cell_type": "markdown",
      "metadata": {
        "id": "QI274F8LQC59"
      },
      "source": [
        "## Carga de los datos"
      ]
    },
    {
      "cell_type": "code",
      "execution_count": 2,
      "metadata": {
        "id": "wajFOBspcnbM"
      },
      "outputs": [],
      "source": [
        "import cv2\n",
        "import os\n",
        "import numpy as np\n",
        "import keras\n",
        "import matplotlib.pyplot as plt\n",
        "import glob"
      ]
    },
    {
      "cell_type": "code",
      "execution_count": 3,
      "metadata": {
        "colab": {
          "base_uri": "https://localhost:8080/"
        },
        "id": "D7tKOZ9BFfki",
        "outputId": "3f67375c-90e9-4596-db56-2356dadbaedc"
      },
      "outputs": [
        {
          "data": {
            "text/plain": [
              "'C:\\\\Users\\\\NestorBD\\\\.keras\\\\datasets\\\\simpsons_test.tar.gz'"
            ]
          },
          "execution_count": 3,
          "metadata": {},
          "output_type": "execute_result"
        }
      ],
      "source": [
        "\n",
        "\n",
        "\n",
        "# Primero, bajamos los datos de entrenamiento\n",
        "keras.utils.get_file(fname=\"simpsons_train.tar.gz\",\n",
        "                     origin=\"https://onedrive.live.com/download?cid=C506CF0A4F373B0F&resid=C506CF0A4F373B0F%219337&authkey=AMzI92bJPx8Sd60\")\n",
        "\n",
        "\n",
        "\n",
        "# Hacemos lo mismo con los datos de test\n",
        "keras.utils.get_file(fname=\"simpsons_test.tar.gz\",\n",
        "                     origin=\"https://onedrive.live.com/download?cid=C506CF0A4F373B0F&resid=C506CF0A4F373B0F%219341&authkey=ANnjK3Uq1FhuAe8\")\n"
      ]
    },
    {
      "cell_type": "code",
      "execution_count": 4,
      "metadata": {},
      "outputs": [],
      "source": [
        "# Descomprimimos el archivo\n",
        "!tar -xzf C:/Users/NestorBD/.keras/datasets/simpsons_train.tar.gz -C C:/Users/NestorBD/.keras/datasets\n",
        "!tar -xzf C:/Users/NestorBD/.keras/datasets/simpsons_test.tar.gz -C C:/Users/NestorBD/.keras/datasets"
      ]
    },
    {
      "cell_type": "code",
      "execution_count": 5,
      "metadata": {
        "id": "hMFhe3COFwSD"
      },
      "outputs": [],
      "source": [
        "# Esta variable contiene un mapeo de número de clase a personaje.\n",
        "# Utilizamos sólo los 18 personajes del dataset que tienen más imágenes.\n",
        "MAP_CHARACTERS = {\n",
        "    0: 'abraham_grampa_simpson', 1: 'apu_nahasapeemapetilon', 2: 'bart_simpson',\n",
        "    3: 'charles_montgomery_burns', 4: 'chief_wiggum', 5: 'comic_book_guy', 6: 'edna_krabappel',\n",
        "    7: 'homer_simpson', 8: 'kent_brockman', 9: 'krusty_the_clown', 10: 'lisa_simpson',\n",
        "    11: 'marge_simpson', 12: 'milhouse_van_houten', 13: 'moe_szyslak',\n",
        "    14: 'ned_flanders', 15: 'nelson_muntz', 16: 'principal_skinner', 17: 'sideshow_bob'\n",
        "}\n",
        "\n",
        "# Vamos a standarizar todas las imágenes a tamaño 64x64\n",
        "IMG_SIZE = 64"
      ]
    },
    {
      "cell_type": "code",
      "execution_count": 6,
      "metadata": {
        "id": "5bJ0NsbCbupF"
      },
      "outputs": [],
      "source": [
        "def load_train_set(dirname, map_characters, verbose=True):\n",
        "    \"\"\"Esta función carga los datos de training en imágenes.\n",
        "\n",
        "    Como las imágenes tienen tamaños distintas, utilizamos la librería opencv\n",
        "    para hacer un resize y adaptarlas todas a tamaño IMG_SIZE x IMG_SIZE.\n",
        "\n",
        "    Args:\n",
        "        dirname: directorio completo del que leer los datos\n",
        "        map_characters: variable de mapeo entre labels y personajes\n",
        "        verbose: si es True, muestra información de las imágenes cargadas\n",
        "\n",
        "    Returns:\n",
        "        X, y: X es un array con todas las imágenes cargadas con tamaño\n",
        "                IMG_SIZE x IMG_SIZE\n",
        "              y es un array con las labels de correspondientes a cada imagen\n",
        "    \"\"\"\n",
        "    X_train = []\n",
        "    y_train = []\n",
        "    for label, character in map_characters.items():\n",
        "        files = os.listdir(os.path.join(dirname, character))\n",
        "        images = [file for file in files if file.endswith(\"jpg\")]\n",
        "        if verbose:\n",
        "          print(\"Leyendo {} imágenes encontradas de {}\".format(len(images), character))\n",
        "        for image_name in images:\n",
        "            image = cv2.imread(os.path.join(dirname, character, image_name))\n",
        "            X_train.append(cv2.resize(image,(IMG_SIZE, IMG_SIZE)))\n",
        "            y_train.append(label)\n",
        "    return np.array(X_train), np.array(y_train)"
      ]
    },
    {
      "cell_type": "code",
      "execution_count": 7,
      "metadata": {
        "id": "NslxhnnDK6uA"
      },
      "outputs": [],
      "source": [
        "def load_test_set(dirname, map_characters, verbose=True):\n",
        "    \"\"\"Esta función funciona de manera equivalente a la función load_train_set\n",
        "    pero cargando los datos de test.\"\"\"\n",
        "    X_test = []\n",
        "    y_test = []\n",
        "    reverse_dict = {v: k for k, v in map_characters.items()}\n",
        "    for filename in glob.glob(dirname + '/*.*'):\n",
        "        char_name = \"_\".join(filename.split('/')[-1].split('\\\\')[-1].split('_')[:-1])\n",
        "        if char_name in reverse_dict:\n",
        "            image = cv2.imread(filename)\n",
        "            image = cv2.resize(image, (IMG_SIZE, IMG_SIZE))\n",
        "            X_test.append(image)\n",
        "            y_test.append(reverse_dict[char_name])\n",
        "    if verbose:\n",
        "        print(\"Leídas {} imágenes de test\".format(len(X_test)))\n",
        "    return np.array(X_test), np.array(y_test)\n"
      ]
    },
    {
      "cell_type": "code",
      "execution_count": 8,
      "metadata": {
        "colab": {
          "base_uri": "https://localhost:8080/",
          "height": 334
        },
        "id": "WVWqKxFcbwTu",
        "outputId": "5d4f9337-c66e-4570-fbc1-91f09b80db23"
      },
      "outputs": [
        {
          "name": "stdout",
          "output_type": "stream",
          "text": [
            "Leyendo 913 imágenes encontradas de abraham_grampa_simpson\n",
            "Leyendo 623 imágenes encontradas de apu_nahasapeemapetilon\n",
            "Leyendo 1342 imágenes encontradas de bart_simpson\n",
            "Leyendo 1193 imágenes encontradas de charles_montgomery_burns\n",
            "Leyendo 986 imágenes encontradas de chief_wiggum\n",
            "Leyendo 469 imágenes encontradas de comic_book_guy\n",
            "Leyendo 457 imágenes encontradas de edna_krabappel\n",
            "Leyendo 2246 imágenes encontradas de homer_simpson\n",
            "Leyendo 498 imágenes encontradas de kent_brockman\n",
            "Leyendo 1206 imágenes encontradas de krusty_the_clown\n",
            "Leyendo 1354 imágenes encontradas de lisa_simpson\n",
            "Leyendo 1291 imágenes encontradas de marge_simpson\n",
            "Leyendo 1079 imágenes encontradas de milhouse_van_houten\n",
            "Leyendo 1452 imágenes encontradas de moe_szyslak\n",
            "Leyendo 1454 imágenes encontradas de ned_flanders\n",
            "Leyendo 358 imágenes encontradas de nelson_muntz\n",
            "Leyendo 1194 imágenes encontradas de principal_skinner\n",
            "Leyendo 877 imágenes encontradas de sideshow_bob\n"
          ]
        }
      ],
      "source": [
        "# Cargamos los datos. Si no estás trabajando en colab, cambia los paths por\n",
        "# los de los ficheros donde hayas descargado los datos.\n",
        "DATASET_TRAIN_PATH_COLAB = \"C:/Users/NestorBD/.keras/datasets/simpsons\"\n",
        "\n",
        "X, y = load_train_set(DATASET_TRAIN_PATH_COLAB, MAP_CHARACTERS)"
      ]
    },
    {
      "cell_type": "code",
      "execution_count": 9,
      "metadata": {},
      "outputs": [
        {
          "name": "stdout",
          "output_type": "stream",
          "text": [
            "Leídas 890 imágenes de test\n"
          ]
        }
      ],
      "source": [
        "DATASET_TEST_PATH_COLAB = \"C:/Users/NestorBD/.keras/datasets/simpsons_testset\"\n",
        "X_t, y_t = load_test_set(DATASET_TEST_PATH_COLAB, MAP_CHARACTERS)"
      ]
    },
    {
      "cell_type": "code",
      "execution_count": 10,
      "metadata": {
        "id": "2GY4vTFyfffv"
      },
      "outputs": [],
      "source": [
        "# Vamos a barajar aleatoriamente los datos. Esto es importante ya que si no\n",
        "# lo hacemos y, por ejemplo, cogemos el 20% de los datos finales como validation\n",
        "# set, estaremos utilizando solo un pequeño número de personajes, ya que\n",
        "# las imágenes se leen secuencialmente personaje a personaje.\n",
        "perm = np.random.permutation(len(X))\n",
        "X, y = X[perm], y[perm]"
      ]
    },
    {
      "cell_type": "markdown",
      "metadata": {
        "id": "pBbmz9DMhVhc"
      },
      "source": [
        "## Entregable\n",
        "\n",
        "Utilizando Convolutional Neural Networks con Keras, entrenar un clasificador que sea capaz de reconocer personajes en imágenes de los Simpsons con una accuracy en el dataset de test de **85%**. Redactar un informe analizando varias de las alternativas probadas y los resultados obtenidos.\n",
        "\n",
        "A continuación se detallan una serie de aspectos orientativos que podrían ser analizados en vuestro informe (no es necesario tratar todos ellos ni mucho menos, esto son ideas orientativas de aspectos que podéis explorar):\n",
        "\n",
        "*   Análisis de los datos a utilizar.\n",
        "*   Análisis de resultados, obtención de métricas de *precision* y *recall* por clase y análisis de qué clases obtienen mejores o peores resultados.\n",
        "*   Análisis visual de los errores de la red. ¿Qué tipo de imágenes o qué personajes dan más problemas a nuestro modelo?\n",
        "*   Comparación de modelos CNNs con un modelo de Fully Connected para este problema.\n",
        "*   Utilización de distintas arquitecturas CNNs, comentando aspectos como su profundidad, hiperparámetros utilizados, optimizador, uso de técnicas de regularización, *batch normalization*, etc.\n",
        "*   [ *algo más difícil* ] Utilización de *data augmentation*. Esto puede conseguirse con la clase [ImageDataGenerator](https://keras.io/preprocessing/image/#imagedatagenerator-class) de Keras.\n",
        "\n",
        "Notas:\n",
        "* Recuerda partir los datos en training/validation para tener una buena estimación de los valores que nuestro modelo tendrá en los datos de test, así como comprobar que no estamos cayendo en overfitting. Una posible partición puede ser 80 / 20.\n",
        "* No es necesario mostrar en el notebook las trazas de entrenamiento de todos los modelos entrenados, si bien una buena idea seria guardar gráficas de esos entrenamientos para el análisis. Sin embargo, **se debe mostrar el entrenamiento completo del mejor modelo obtenido y la evaluación de los datos de test con este modelo**.\n",
        "* Las imágenes **no están normalizadas**. Hay que normalizarlas como hemos hecho en trabajos anteriores.\n",
        "* El test set del problema tiene imágenes un poco más \"fáciles\", por lo que es posible encontrarse con métricas en el test set bastante mejores que en el training set."
      ]
    },
    {
      "cell_type": "markdown",
      "metadata": {
        "id": "_FCznqoUsXhp"
      },
      "source": [
        "**Normalización de las imágenes.**"
      ]
    },
    {
      "cell_type": "code",
      "execution_count": 11,
      "metadata": {
        "id": "sWS_tGM-G9Q3"
      },
      "outputs": [],
      "source": [
        "# Preprocessing normalización de las imágenes\n",
        "# X, y = load_train_set(DATASET_TRAIN_PATH_COLAB, MAP_CHARACTERS)\n",
        "# X_t, y_t = load_test_set(DATASET_TEST_PATH_COLAB, MAP_CHARACTERS)\n",
        "X = X / 255.0\n",
        "X_t = X_t / 255.0"
      ]
    },
    {
      "cell_type": "markdown",
      "metadata": {
        "id": "ChPtf4zsvdVt"
      },
      "source": [
        "**Análisis de los datos a utilizar.**"
      ]
    },
    {
      "cell_type": "code",
      "execution_count": 12,
      "metadata": {
        "id": "g3CbEQhYN4x_"
      },
      "outputs": [],
      "source": [
        "def visualize_example(x):\n",
        "  plt.figure()\n",
        "  plt.imshow(x)\n",
        "  plt.colorbar()\n",
        "  plt.grid(False)\n",
        "  plt.show()"
      ]
    },
    {
      "cell_type": "code",
      "execution_count": 13,
      "metadata": {
        "colab": {
          "base_uri": "https://localhost:8080/",
          "height": 302
        },
        "id": "5FHUeyfyOCzh",
        "outputId": "45fd3ff6-f56f-4fac-c2ea-79db90d06834"
      },
      "outputs": [
        {
          "data": {
            "image/png": "[encoded data removed]",
            "text/plain": [
              "<Figure size 640x480 with 2 Axes>"
            ]
          },
          "metadata": {},
          "output_type": "display_data"
        },
        {
          "name": "stdout",
          "output_type": "stream",
          "text": [
            "ned_flanders\n",
            "(64, 64, 3)\n"
          ]
        }
      ],
      "source": [
        "visualize_example(X[70]) # Visualiza la imagen normalizada con valores de 0 a 1\n",
        "print(MAP_CHARACTERS[y[70]]) # Acceso al diccionario\n",
        "print(X[70].shape[0:3]) # Dimensiones de la imagen tras resize con los 3 canales RGB"
      ]
    },
    {
      "cell_type": "code",
      "execution_count": 14,
      "metadata": {
        "id": "XCZzT9knOmNo"
      },
      "outputs": [],
      "source": [
        "#batch_size=128\n",
        "num_classes=18\n",
        "epochs=5\n",
        "img_rows,img_cols=IMG_SIZE,IMG_SIZE\n",
        "input_shape=(img_rows,img_cols,3) #(64,64,3)"
      ]
    },
    {
      "cell_type": "code",
      "execution_count": 15,
      "metadata": {
        "id": "jOCtkroVTgCl"
      },
      "outputs": [],
      "source": [
        "# convert class vectors to binary class matrices\n",
        "y=keras.utils.to_categorical(y,num_classes)\n",
        "y_t=keras.utils.to_categorical(y_t,num_classes)"
      ]
    },
    {
      "cell_type": "code",
      "execution_count": 16,
      "metadata": {
        "colab": {
          "base_uri": "https://localhost:8080/",
          "height": 33
        },
        "id": "YdHO2ywiU6Js",
        "outputId": "60b4c0a8-bb31-44d4-e175-b26b4618a0ac"
      },
      "outputs": [
        {
          "data": {
            "text/plain": [
              "(18992, 64, 64, 3)"
            ]
          },
          "execution_count": 16,
          "metadata": {},
          "output_type": "execute_result"
        }
      ],
      "source": [
        "X.shape"
      ]
    },
    {
      "cell_type": "code",
      "execution_count": 17,
      "metadata": {
        "colab": {
          "base_uri": "https://localhost:8080/",
          "height": 33
        },
        "id": "y4kgD9B4VkvF",
        "outputId": "8eb4e10f-3091-43ce-ca89-c890ce96dddc"
      },
      "outputs": [
        {
          "data": {
            "text/plain": [
              "(18992, 18)"
            ]
          },
          "execution_count": 17,
          "metadata": {},
          "output_type": "execute_result"
        }
      ],
      "source": [
        "y.shape"
      ]
    },
    {
      "cell_type": "markdown",
      "metadata": {
        "id": "89uCkC28W1He"
      },
      "source": [
        "**Parámetros por defecto de la capa de convolución:** <br>\n",
        "*keras.layers.Conv2D(filters, kernel_size, strides=(1, 1), padding='valid', data_format=None, dilation_rate=(1, 1), activation=None, use_bias=True, kernel_initializer='glorot_uniform', bias_initializer='zeros', kernel_regularizer=None, bias_regularizer=None, activity_regularizer=None, kernel_constraint=None, bias_constraint=None)*"
      ]
    },
    {
      "cell_type": "code",
      "execution_count": 21,
      "metadata": {
        "id": "714j_pDXbvzL"
      },
      "outputs": [],
      "source": [
        "model = keras.Sequential([\n",
        "  keras.layers.Conv2D(32, kernel_size=(3, 3), data_format=\"channels_last\",input_shape=(64, 64, 3), activation='relu'),\n",
        "  keras.layers.MaxPooling2D(pool_size=(2, 2)),\n",
        "  keras.layers.Conv2D(128, kernel_size=(3, 3), activation='relu'),\n",
        "  keras.layers.MaxPooling2D(pool_size=(2, 2)),\n",
        "  keras.layers.Conv2D(512, kernel_size=(3, 3), activation='relu'),\n",
        "  keras.layers.MaxPooling2D(pool_size=(2, 2)),\n",
        "  keras.layers.MaxPooling2D(pool_size=(2, 2)),\n",
        "  keras.layers.Flatten(),\n",
        "  keras.layers.Dense(500, activation='relu'),\n",
        "  keras.layers.Dropout(0.5),\n",
        "  keras.layers.Dense(18, activation='softmax')\n",
        "  ])"
      ]
    },
    {
      "cell_type": "code",
      "execution_count": 19,
      "metadata": {
        "colab": {
          "base_uri": "https://localhost:8080/",
          "height": 518
        },
        "id": "JtpwfPsuiDTI",
        "outputId": "250877b5-396b-46d2-ce7b-2d24d894e371"
      },
      "outputs": [
        {
          "name": "stdout",
          "output_type": "stream",
          "text": [
            "Model: \"sequential\"\n",
            "_________________________________________________________________\n",
            " Layer (type)                Output Shape              Param #   \n",
            "=================================================================\n",
            " conv2d (Conv2D)             (None, 62, 62, 32)        896       \n",
            "                                                                 \n",
            " max_pooling2d (MaxPooling2  (None, 31, 31, 32)        0         \n",
            " D)                                                              \n",
            "                                                                 \n",
            " conv2d_1 (Conv2D)           (None, 29, 29, 128)       36992     \n",
            "                                                                 \n",
            " max_pooling2d_1 (MaxPoolin  (None, 14, 14, 128)       0         \n",
            " g2D)                                                            \n",
            "                                                                 \n",
            " conv2d_2 (Conv2D)           (None, 12, 12, 512)       590336    \n",
            "                                                                 \n",
            " max_pooling2d_2 (MaxPoolin  (None, 6, 6, 512)         0         \n",
            " g2D)                                                            \n",
            "                                                                 \n",
            " max_pooling2d_3 (MaxPoolin  (None, 3, 3, 512)         0         \n",
            " g2D)                                                            \n",
            "                                                                 \n",
            " flatten (Flatten)           (None, 4608)              0         \n",
            "                                                                 \n",
            " dense (Dense)               (None, 500)               2304500   \n",
            "                                                                 \n",
            " dropout (Dropout)           (None, 500)               0         \n",
            "                                                                 \n",
            " dense_1 (Dense)             (None, 18)                9018      \n",
            "                                                                 \n",
            "=================================================================\n",
            "Total params: 2941742 (11.22 MB)\n",
            "Trainable params: 2941742 (11.22 MB)\n",
            "Non-trainable params: 0 (0.00 Byte)\n",
            "_________________________________________________________________\n"
          ]
        }
      ],
      "source": [
        "model.summary()\n",
        "model.compile(optimizer='adam',\n",
        "loss='categorical_crossentropy',\n",
        "metrics=['accuracy'])"
      ]
    },
    {
      "cell_type": "markdown",
      "metadata": {
        "id": "sDHrSAEJ1xqB"
      },
      "source": [
        "*Observamos que el modelo tiene cerca de 3 millones de parámetros, se ha visto una mejora importante al añadir más neuronas en la capa dense_9, otros modelos probados con 200 neuronas solo alcanzaban un 65% de precisión. Hacemos dos máxpooling seguidos para reducir de 600000 a 4600 las neuronas en la capa flatten_5 y que no se dispare el número de parámetros pudiendo así aumentar el número de neuronas de la capa dense_9 que hemos observado mejora la precisión. Se usó categorical crossentropy porque las variables dependientes se transformaron en categorías y se usa la función de activation softmax en la capa de salida.*"
      ]
    },
    {
      "cell_type": "markdown",
      "metadata": {
        "id": "J9yIGNPS4NZe"
      },
      "source": [
        "**Comparación de modelos CNNs con un modelo de Fully Connected para este problema.**<br>\n",
        "*El número de neuronas en la capa de entrada hace inviable entrenar un modelo Fully Connected que no usa capas convolucionales. Los filtros convolucionales permiten extraer características espaciales de las imágenes, frente a un modelo Fully Connected en el que no se aprovecha esta posibilidad.*"
      ]
    },
    {
      "cell_type": "markdown",
      "metadata": {
        "id": "igAbMRiOvGdm"
      },
      "source": [
        "\n",
        "**Entrenamiento completo del mejor modelo.** <br>\n",
        "*División de los datos en training/validation 80/20 para tener una buena estimación de los valores que nuestro modelo tendrá\n",
        "en los datos de test, así como comprobar que no estamos cayendo en overfitting.*"
      ]
    },
    {
      "cell_type": "code",
      "execution_count": 20,
      "metadata": {
        "colab": {
          "base_uri": "https://localhost:8080/",
          "height": 268
        },
        "id": "GRdP1R6UkPpd",
        "outputId": "a599eae1-8b8a-4ed1-ba43-391d49fa5c64"
      },
      "outputs": [
        {
          "name": "stdout",
          "output_type": "stream",
          "text": [
            "Epoch 1/7\n",
            " 76/475 [===>..........................] - ETA: 1:18 - loss: 2.7702 - accuracy: 0.1456"
          ]
        },
        {
          "ename": "KeyboardInterrupt",
          "evalue": "",
          "output_type": "error",
          "traceback": [
            "\u001b[1;31m---------------------------------------------------------------------------\u001b[0m",
            "\u001b[1;31mKeyboardInterrupt\u001b[0m                         Traceback (most recent call last)",
            "\u001b[1;32md:\\Mi unidad\\Master FP IA y BD\\7RO\\clase\\10-11-2023\\cnn_.ipynb Celda 28\u001b[0m line \u001b[0;36m1\n\u001b[1;32m----> <a href='vscode-notebook-cell:/d%3A/Mi%20unidad/Master%20FP%20IA%20y%20BD/7RO/clase/10-11-2023/cnn_.ipynb#X36sZmlsZQ%3D%3D?line=0'>1</a>\u001b[0m history\u001b[39m=\u001b[39mmodel\u001b[39m.\u001b[39mfit(X, y, epochs\u001b[39m=\u001b[39m\u001b[39m7\u001b[39m, validation_split \u001b[39m=\u001b[39m \u001b[39m0.2\u001b[39m)\n",
            "File \u001b[1;32mc:\\Users\\NestorBD\\anaconda3\\Lib\\site-packages\\keras\\src\\utils\\traceback_utils.py:65\u001b[0m, in \u001b[0;36mfilter_traceback.<locals>.error_handler\u001b[1;34m(*args, **kwargs)\u001b[0m\n\u001b[0;32m     63\u001b[0m filtered_tb \u001b[39m=\u001b[39m \u001b[39mNone\u001b[39;00m\n\u001b[0;32m     64\u001b[0m \u001b[39mtry\u001b[39;00m:\n\u001b[1;32m---> 65\u001b[0m     \u001b[39mreturn\u001b[39;00m fn(\u001b[39m*\u001b[39margs, \u001b[39m*\u001b[39m\u001b[39m*\u001b[39mkwargs)\n\u001b[0;32m     66\u001b[0m \u001b[39mexcept\u001b[39;00m \u001b[39mException\u001b[39;00m \u001b[39mas\u001b[39;00m e:\n\u001b[0;32m     67\u001b[0m     filtered_tb \u001b[39m=\u001b[39m _process_traceback_frames(e\u001b[39m.\u001b[39m__traceback__)\n",
            "File \u001b[1;32mc:\\Users\\NestorBD\\anaconda3\\Lib\\site-packages\\keras\\src\\engine\\training.py:1783\u001b[0m, in \u001b[0;36mModel.fit\u001b[1;34m(self, x, y, batch_size, epochs, verbose, callbacks, validation_split, validation_data, shuffle, class_weight, sample_weight, initial_epoch, steps_per_epoch, validation_steps, validation_batch_size, validation_freq, max_queue_size, workers, use_multiprocessing)\u001b[0m\n\u001b[0;32m   1775\u001b[0m \u001b[39mwith\u001b[39;00m tf\u001b[39m.\u001b[39mprofiler\u001b[39m.\u001b[39mexperimental\u001b[39m.\u001b[39mTrace(\n\u001b[0;32m   1776\u001b[0m     \u001b[39m\"\u001b[39m\u001b[39mtrain\u001b[39m\u001b[39m\"\u001b[39m,\n\u001b[0;32m   1777\u001b[0m     epoch_num\u001b[39m=\u001b[39mepoch,\n\u001b[1;32m   (...)\u001b[0m\n\u001b[0;32m   1780\u001b[0m     _r\u001b[39m=\u001b[39m\u001b[39m1\u001b[39m,\n\u001b[0;32m   1781\u001b[0m ):\n\u001b[0;32m   1782\u001b[0m     callbacks\u001b[39m.\u001b[39mon_train_batch_begin(step)\n\u001b[1;32m-> 1783\u001b[0m     tmp_logs \u001b[39m=\u001b[39m \u001b[39mself\u001b[39m\u001b[39m.\u001b[39mtrain_function(iterator)\n\u001b[0;32m   1784\u001b[0m     \u001b[39mif\u001b[39;00m data_handler\u001b[39m.\u001b[39mshould_sync:\n\u001b[0;32m   1785\u001b[0m         context\u001b[39m.\u001b[39masync_wait()\n",
            "File \u001b[1;32mc:\\Users\\NestorBD\\anaconda3\\Lib\\site-packages\\tensorflow\\python\\util\\traceback_utils.py:150\u001b[0m, in \u001b[0;36mfilter_traceback.<locals>.error_handler\u001b[1;34m(*args, **kwargs)\u001b[0m\n\u001b[0;32m    148\u001b[0m filtered_tb \u001b[39m=\u001b[39m \u001b[39mNone\u001b[39;00m\n\u001b[0;32m    149\u001b[0m \u001b[39mtry\u001b[39;00m:\n\u001b[1;32m--> 150\u001b[0m   \u001b[39mreturn\u001b[39;00m fn(\u001b[39m*\u001b[39margs, \u001b[39m*\u001b[39m\u001b[39m*\u001b[39mkwargs)\n\u001b[0;32m    151\u001b[0m \u001b[39mexcept\u001b[39;00m \u001b[39mException\u001b[39;00m \u001b[39mas\u001b[39;00m e:\n\u001b[0;32m    152\u001b[0m   filtered_tb \u001b[39m=\u001b[39m _process_traceback_frames(e\u001b[39m.\u001b[39m__traceback__)\n",
            "File \u001b[1;32mc:\\Users\\NestorBD\\anaconda3\\Lib\\site-packages\\tensorflow\\python\\eager\\polymorphic_function\\polymorphic_function.py:831\u001b[0m, in \u001b[0;36mFunction.__call__\u001b[1;34m(self, *args, **kwds)\u001b[0m\n\u001b[0;32m    828\u001b[0m compiler \u001b[39m=\u001b[39m \u001b[39m\"\u001b[39m\u001b[39mxla\u001b[39m\u001b[39m\"\u001b[39m \u001b[39mif\u001b[39;00m \u001b[39mself\u001b[39m\u001b[39m.\u001b[39m_jit_compile \u001b[39melse\u001b[39;00m \u001b[39m\"\u001b[39m\u001b[39mnonXla\u001b[39m\u001b[39m\"\u001b[39m\n\u001b[0;32m    830\u001b[0m \u001b[39mwith\u001b[39;00m OptionalXlaContext(\u001b[39mself\u001b[39m\u001b[39m.\u001b[39m_jit_compile):\n\u001b[1;32m--> 831\u001b[0m   result \u001b[39m=\u001b[39m \u001b[39mself\u001b[39m\u001b[39m.\u001b[39m_call(\u001b[39m*\u001b[39margs, \u001b[39m*\u001b[39m\u001b[39m*\u001b[39mkwds)\n\u001b[0;32m    833\u001b[0m new_tracing_count \u001b[39m=\u001b[39m \u001b[39mself\u001b[39m\u001b[39m.\u001b[39mexperimental_get_tracing_count()\n\u001b[0;32m    834\u001b[0m without_tracing \u001b[39m=\u001b[39m (tracing_count \u001b[39m==\u001b[39m new_tracing_count)\n",
            "File \u001b[1;32mc:\\Users\\NestorBD\\anaconda3\\Lib\\site-packages\\tensorflow\\python\\eager\\polymorphic_function\\polymorphic_function.py:867\u001b[0m, in \u001b[0;36mFunction._call\u001b[1;34m(self, *args, **kwds)\u001b[0m\n\u001b[0;32m    864\u001b[0m   \u001b[39mself\u001b[39m\u001b[39m.\u001b[39m_lock\u001b[39m.\u001b[39mrelease()\n\u001b[0;32m    865\u001b[0m   \u001b[39m# In this case we have created variables on the first call, so we run the\u001b[39;00m\n\u001b[0;32m    866\u001b[0m   \u001b[39m# defunned version which is guaranteed to never create variables.\u001b[39;00m\n\u001b[1;32m--> 867\u001b[0m   \u001b[39mreturn\u001b[39;00m tracing_compilation\u001b[39m.\u001b[39mcall_function(\n\u001b[0;32m    868\u001b[0m       args, kwds, \u001b[39mself\u001b[39m\u001b[39m.\u001b[39m_no_variable_creation_config\n\u001b[0;32m    869\u001b[0m   )\n\u001b[0;32m    870\u001b[0m \u001b[39melif\u001b[39;00m \u001b[39mself\u001b[39m\u001b[39m.\u001b[39m_variable_creation_config \u001b[39mis\u001b[39;00m \u001b[39mnot\u001b[39;00m \u001b[39mNone\u001b[39;00m:\n\u001b[0;32m    871\u001b[0m   \u001b[39m# Release the lock early so that multiple threads can perform the call\u001b[39;00m\n\u001b[0;32m    872\u001b[0m   \u001b[39m# in parallel.\u001b[39;00m\n\u001b[0;32m    873\u001b[0m   \u001b[39mself\u001b[39m\u001b[39m.\u001b[39m_lock\u001b[39m.\u001b[39mrelease()\n",
            "File \u001b[1;32mc:\\Users\\NestorBD\\anaconda3\\Lib\\site-packages\\tensorflow\\python\\eager\\polymorphic_function\\tracing_compilation.py:139\u001b[0m, in \u001b[0;36mcall_function\u001b[1;34m(args, kwargs, tracing_options)\u001b[0m\n\u001b[0;32m    137\u001b[0m bound_args \u001b[39m=\u001b[39m function\u001b[39m.\u001b[39mfunction_type\u001b[39m.\u001b[39mbind(\u001b[39m*\u001b[39margs, \u001b[39m*\u001b[39m\u001b[39m*\u001b[39mkwargs)\n\u001b[0;32m    138\u001b[0m flat_inputs \u001b[39m=\u001b[39m function\u001b[39m.\u001b[39mfunction_type\u001b[39m.\u001b[39munpack_inputs(bound_args)\n\u001b[1;32m--> 139\u001b[0m \u001b[39mreturn\u001b[39;00m function\u001b[39m.\u001b[39m_call_flat(  \u001b[39m# pylint: disable=protected-access\u001b[39;00m\n\u001b[0;32m    140\u001b[0m     flat_inputs, captured_inputs\u001b[39m=\u001b[39mfunction\u001b[39m.\u001b[39mcaptured_inputs\n\u001b[0;32m    141\u001b[0m )\n",
            "File \u001b[1;32mc:\\Users\\NestorBD\\anaconda3\\Lib\\site-packages\\tensorflow\\python\\eager\\polymorphic_function\\concrete_function.py:1264\u001b[0m, in \u001b[0;36mConcreteFunction._call_flat\u001b[1;34m(self, tensor_inputs, captured_inputs)\u001b[0m\n\u001b[0;32m   1260\u001b[0m possible_gradient_type \u001b[39m=\u001b[39m gradients_util\u001b[39m.\u001b[39mPossibleTapeGradientTypes(args)\n\u001b[0;32m   1261\u001b[0m \u001b[39mif\u001b[39;00m (possible_gradient_type \u001b[39m==\u001b[39m gradients_util\u001b[39m.\u001b[39mPOSSIBLE_GRADIENT_TYPES_NONE\n\u001b[0;32m   1262\u001b[0m     \u001b[39mand\u001b[39;00m executing_eagerly):\n\u001b[0;32m   1263\u001b[0m   \u001b[39m# No tape is watching; skip to running the function.\u001b[39;00m\n\u001b[1;32m-> 1264\u001b[0m   \u001b[39mreturn\u001b[39;00m \u001b[39mself\u001b[39m\u001b[39m.\u001b[39m_inference_function\u001b[39m.\u001b[39mflat_call(args)\n\u001b[0;32m   1265\u001b[0m forward_backward \u001b[39m=\u001b[39m \u001b[39mself\u001b[39m\u001b[39m.\u001b[39m_select_forward_and_backward_functions(\n\u001b[0;32m   1266\u001b[0m     args,\n\u001b[0;32m   1267\u001b[0m     possible_gradient_type,\n\u001b[0;32m   1268\u001b[0m     executing_eagerly)\n\u001b[0;32m   1269\u001b[0m forward_function, args_with_tangents \u001b[39m=\u001b[39m forward_backward\u001b[39m.\u001b[39mforward()\n",
            "File \u001b[1;32mc:\\Users\\NestorBD\\anaconda3\\Lib\\site-packages\\tensorflow\\python\\eager\\polymorphic_function\\atomic_function.py:217\u001b[0m, in \u001b[0;36mAtomicFunction.flat_call\u001b[1;34m(self, args)\u001b[0m\n\u001b[0;32m    215\u001b[0m \u001b[39mdef\u001b[39;00m \u001b[39mflat_call\u001b[39m(\u001b[39mself\u001b[39m, args: Sequence[core\u001b[39m.\u001b[39mTensor]) \u001b[39m-\u001b[39m\u001b[39m>\u001b[39m Any:\n\u001b[0;32m    216\u001b[0m \u001b[39m  \u001b[39m\u001b[39m\"\"\"Calls with tensor inputs and returns the structured output.\"\"\"\u001b[39;00m\n\u001b[1;32m--> 217\u001b[0m   flat_outputs \u001b[39m=\u001b[39m \u001b[39mself\u001b[39m(\u001b[39m*\u001b[39margs)\n\u001b[0;32m    218\u001b[0m   \u001b[39mreturn\u001b[39;00m \u001b[39mself\u001b[39m\u001b[39m.\u001b[39mfunction_type\u001b[39m.\u001b[39mpack_output(flat_outputs)\n",
            "File \u001b[1;32mc:\\Users\\NestorBD\\anaconda3\\Lib\\site-packages\\tensorflow\\python\\eager\\polymorphic_function\\atomic_function.py:252\u001b[0m, in \u001b[0;36mAtomicFunction.__call__\u001b[1;34m(self, *args)\u001b[0m\n\u001b[0;32m    250\u001b[0m \u001b[39mwith\u001b[39;00m record\u001b[39m.\u001b[39mstop_recording():\n\u001b[0;32m    251\u001b[0m   \u001b[39mif\u001b[39;00m \u001b[39mself\u001b[39m\u001b[39m.\u001b[39m_bound_context\u001b[39m.\u001b[39mexecuting_eagerly():\n\u001b[1;32m--> 252\u001b[0m     outputs \u001b[39m=\u001b[39m \u001b[39mself\u001b[39m\u001b[39m.\u001b[39m_bound_context\u001b[39m.\u001b[39mcall_function(\n\u001b[0;32m    253\u001b[0m         \u001b[39mself\u001b[39m\u001b[39m.\u001b[39mname,\n\u001b[0;32m    254\u001b[0m         \u001b[39mlist\u001b[39m(args),\n\u001b[0;32m    255\u001b[0m         \u001b[39mlen\u001b[39m(\u001b[39mself\u001b[39m\u001b[39m.\u001b[39mfunction_type\u001b[39m.\u001b[39mflat_outputs),\n\u001b[0;32m    256\u001b[0m     )\n\u001b[0;32m    257\u001b[0m   \u001b[39melse\u001b[39;00m:\n\u001b[0;32m    258\u001b[0m     outputs \u001b[39m=\u001b[39m make_call_op_in_graph(\n\u001b[0;32m    259\u001b[0m         \u001b[39mself\u001b[39m,\n\u001b[0;32m    260\u001b[0m         \u001b[39mlist\u001b[39m(args),\n\u001b[0;32m    261\u001b[0m         \u001b[39mself\u001b[39m\u001b[39m.\u001b[39m_bound_context\u001b[39m.\u001b[39mfunction_call_options\u001b[39m.\u001b[39mas_attrs(),\n\u001b[0;32m    262\u001b[0m     )\n",
            "File \u001b[1;32mc:\\Users\\NestorBD\\anaconda3\\Lib\\site-packages\\tensorflow\\python\\eager\\context.py:1479\u001b[0m, in \u001b[0;36mContext.call_function\u001b[1;34m(self, name, tensor_inputs, num_outputs)\u001b[0m\n\u001b[0;32m   1477\u001b[0m cancellation_context \u001b[39m=\u001b[39m cancellation\u001b[39m.\u001b[39mcontext()\n\u001b[0;32m   1478\u001b[0m \u001b[39mif\u001b[39;00m cancellation_context \u001b[39mis\u001b[39;00m \u001b[39mNone\u001b[39;00m:\n\u001b[1;32m-> 1479\u001b[0m   outputs \u001b[39m=\u001b[39m execute\u001b[39m.\u001b[39mexecute(\n\u001b[0;32m   1480\u001b[0m       name\u001b[39m.\u001b[39mdecode(\u001b[39m\"\u001b[39m\u001b[39mutf-8\u001b[39m\u001b[39m\"\u001b[39m),\n\u001b[0;32m   1481\u001b[0m       num_outputs\u001b[39m=\u001b[39mnum_outputs,\n\u001b[0;32m   1482\u001b[0m       inputs\u001b[39m=\u001b[39mtensor_inputs,\n\u001b[0;32m   1483\u001b[0m       attrs\u001b[39m=\u001b[39mattrs,\n\u001b[0;32m   1484\u001b[0m       ctx\u001b[39m=\u001b[39m\u001b[39mself\u001b[39m,\n\u001b[0;32m   1485\u001b[0m   )\n\u001b[0;32m   1486\u001b[0m \u001b[39melse\u001b[39;00m:\n\u001b[0;32m   1487\u001b[0m   outputs \u001b[39m=\u001b[39m execute\u001b[39m.\u001b[39mexecute_with_cancellation(\n\u001b[0;32m   1488\u001b[0m       name\u001b[39m.\u001b[39mdecode(\u001b[39m\"\u001b[39m\u001b[39mutf-8\u001b[39m\u001b[39m\"\u001b[39m),\n\u001b[0;32m   1489\u001b[0m       num_outputs\u001b[39m=\u001b[39mnum_outputs,\n\u001b[1;32m   (...)\u001b[0m\n\u001b[0;32m   1493\u001b[0m       cancellation_manager\u001b[39m=\u001b[39mcancellation_context,\n\u001b[0;32m   1494\u001b[0m   )\n",
            "File \u001b[1;32mc:\\Users\\NestorBD\\anaconda3\\Lib\\site-packages\\tensorflow\\python\\eager\\execute.py:60\u001b[0m, in \u001b[0;36mquick_execute\u001b[1;34m(op_name, num_outputs, inputs, attrs, ctx, name)\u001b[0m\n\u001b[0;32m     53\u001b[0m   \u001b[39m# Convert any objects of type core_types.Tensor to Tensor.\u001b[39;00m\n\u001b[0;32m     54\u001b[0m   inputs \u001b[39m=\u001b[39m [\n\u001b[0;32m     55\u001b[0m       tensor_conversion_registry\u001b[39m.\u001b[39mconvert(t)\n\u001b[0;32m     56\u001b[0m       \u001b[39mif\u001b[39;00m \u001b[39misinstance\u001b[39m(t, core_types\u001b[39m.\u001b[39mTensor)\n\u001b[0;32m     57\u001b[0m       \u001b[39melse\u001b[39;00m t\n\u001b[0;32m     58\u001b[0m       \u001b[39mfor\u001b[39;00m t \u001b[39min\u001b[39;00m inputs\n\u001b[0;32m     59\u001b[0m   ]\n\u001b[1;32m---> 60\u001b[0m   tensors \u001b[39m=\u001b[39m pywrap_tfe\u001b[39m.\u001b[39mTFE_Py_Execute(ctx\u001b[39m.\u001b[39m_handle, device_name, op_name,\n\u001b[0;32m     61\u001b[0m                                       inputs, attrs, num_outputs)\n\u001b[0;32m     62\u001b[0m \u001b[39mexcept\u001b[39;00m core\u001b[39m.\u001b[39m_NotOkStatusException \u001b[39mas\u001b[39;00m e:\n\u001b[0;32m     63\u001b[0m   \u001b[39mif\u001b[39;00m name \u001b[39mis\u001b[39;00m \u001b[39mnot\u001b[39;00m \u001b[39mNone\u001b[39;00m:\n",
            "\u001b[1;31mKeyboardInterrupt\u001b[0m: "
          ]
        }
      ],
      "source": [
        "history=model.fit(X, y, epochs=7, validation_split = 0.2)"
      ]
    },
    {
      "cell_type": "markdown",
      "metadata": {
        "id": "DLOorHC7yDGd"
      },
      "source": [
        "**Análisis visual de los errores de la red.**"
      ]
    },
    {
      "cell_type": "code",
      "execution_count": null,
      "metadata": {
        "id": "DaIv8-1Wfwml"
      },
      "outputs": [],
      "source": [
        "def plot_acc(history, title=\"Model Accuracy\"):\n",
        "  \"\"\"Imprime una gráfica mostrando la accuracy por epoch obtenida en un entrenamiento\"\"\"\n",
        "  plt.plot(history.history['accuracy'])\n",
        "  plt.plot(history.history['val_accuracy'])\n",
        "  plt.title(title)\n",
        "  plt.ylabel('Accuracy')\n",
        "  plt.xlabel('Epoch')\n",
        "  plt.legend(['Train', 'Val'], loc='upper left')\n",
        "  plt.show()\n",
        "def plot_loss(history, title=\"Model Loss\"):\n",
        "  \"\"\"Imprime una gráfica mostrando la pérdida por epoch obtenida en un entrenamiento\"\"\"\n",
        "  plt.plot(history.history['loss'])\n",
        "  plt.plot(history.history['val_loss'])\n",
        "  plt.title(title)\n",
        "  plt.ylabel('Loss')\n",
        "  plt.xlabel('Epoch')\n",
        "  plt.legend(['Train', 'Val'], loc='upper right')\n",
        "  plt.show()"
      ]
    },
    {
      "cell_type": "code",
      "execution_count": null,
      "metadata": {
        "colab": {
          "base_uri": "https://localhost:8080/",
          "height": 295
        },
        "id": "_I8ft5kuf6Ut",
        "outputId": "691cd336-ebed-4114-f9c3-8b5cdc7e71c0"
      },
      "outputs": [
        {
          "data": {
            "image/png": "[encoded data removed]",
            "text/plain": [
              "<Figure size 640x480 with 1 Axes>"
            ]
          },
          "metadata": {},
          "output_type": "display_data"
        }
      ],
      "source": [
        "plot_acc(history)"
      ]
    },
    {
      "cell_type": "code",
      "execution_count": null,
      "metadata": {
        "colab": {
          "base_uri": "https://localhost:8080/",
          "height": 295
        },
        "id": "UyW26YFIgKOb",
        "outputId": "4f7fe019-ca47-449d-e2f5-70ae4d17b481"
      },
      "outputs": [
        {
          "data": {
            "image/png": "[encoded data removed]",
            "text/plain": [
              "<Figure size 640x480 with 1 Axes>"
            ]
          },
          "metadata": {},
          "output_type": "display_data"
        }
      ],
      "source": [
        "plot_loss(history)"
      ]
    },
    {
      "cell_type": "markdown",
      "metadata": {
        "id": "CGI0t8_Zq5J_"
      },
      "source": [
        "*Viendo las gráficas observamos que con 5 épocas las líneas de loss y accuracy se vuelven prácticamente horizontales, por eso no seguimos entrenando.*"
      ]
    },
    {
      "cell_type": "markdown",
      "metadata": {
        "id": "S0EMUszmh6ze"
      },
      "source": [
        "**Evaluación de los datos de test con este modelo.**"
      ]
    },
    {
      "cell_type": "code",
      "execution_count": null,
      "metadata": {
        "colab": {
          "base_uri": "https://localhost:8080/",
          "height": 50
        },
        "id": "okPXEPRjhkCR",
        "outputId": "41611aa0-231b-4c0c-c092-09de37384433"
      },
      "outputs": [
        {
          "name": "stdout",
          "output_type": "stream",
          "text": [
            "[[[[0.6        0.34901961 0.42352941]\n",
            "   [0.55686275 0.36078431 0.42352941]\n",
            "   [0.42745098 0.31764706 0.36862745]\n",
            "   ...\n",
            "   [0.61568627 0.39215686 0.42745098]\n",
            "   [0.61568627 0.39215686 0.42745098]\n",
            "   [0.61568627 0.39215686 0.42745098]]\n",
            "\n",
            "  [[0.63137255 0.36470588 0.43137255]\n",
            "   [0.59607843 0.38431373 0.44313725]\n",
            "   [0.42745098 0.30980392 0.34901961]\n",
            "   ...\n",
            "   [0.61568627 0.39215686 0.42745098]\n",
            "   [0.61568627 0.39215686 0.42745098]\n",
            "   [0.61568627 0.39215686 0.42745098]]\n",
            "\n",
            "  [[0.59215686 0.38039216 0.43137255]\n",
            "   [0.51372549 0.36862745 0.40392157]\n",
            "   [0.36078431 0.30196078 0.3254902 ]\n",
            "   ...\n",
            "   [0.60392157 0.39215686 0.42745098]\n",
            "   [0.60392157 0.39215686 0.42745098]\n",
            "   [0.60392157 0.39215686 0.42745098]]\n",
            "\n",
            "  ...\n",
            "\n",
            "  [[0.38039216 0.30980392 0.42745098]\n",
            "   [0.41568627 0.3372549  0.45098039]\n",
            "   [0.40784314 0.32941176 0.44313725]\n",
            "   ...\n",
            "   [0.56470588 0.56078431 0.75686275]\n",
            "   [0.57254902 0.56078431 0.75686275]\n",
            "   [0.57254902 0.55294118 0.76470588]]\n",
            "\n",
            "  [[0.28627451 0.42352941 0.55686275]\n",
            "   [0.4627451  0.59607843 0.7372549 ]\n",
            "   [0.5254902  0.65490196 0.79607843]\n",
            "   ...\n",
            "   [0.56862745 0.55686275 0.76078431]\n",
            "   [0.57647059 0.55686275 0.75686275]\n",
            "   [0.58823529 0.55294118 0.75686275]]\n",
            "\n",
            "  [[0.4        0.53333333 0.67058824]\n",
            "   [0.45098039 0.58039216 0.72156863]\n",
            "   [0.40392157 0.5254902  0.66666667]\n",
            "   ...\n",
            "   [0.56470588 0.55686275 0.76078431]\n",
            "   [0.57647059 0.56078431 0.76078431]\n",
            "   [0.58823529 0.55294118 0.75686275]]]\n",
            "\n",
            "\n",
            " [[[0.56078431 0.40784314 0.14117647]\n",
            "   [0.55294118 0.40784314 0.14117647]\n",
            "   [0.54509804 0.40784314 0.14117647]\n",
            "   ...\n",
            "   [0.61176471 0.64705882 0.63529412]\n",
            "   [0.61568627 0.64705882 0.63529412]\n",
            "   [0.62352941 0.65098039 0.62352941]]\n",
            "\n",
            "  [[0.56078431 0.40784314 0.14117647]\n",
            "   [0.54509804 0.40784314 0.14117647]\n",
            "   [0.54509804 0.40784314 0.14117647]\n",
            "   ...\n",
            "   [0.61960784 0.64705882 0.63529412]\n",
            "   [0.62745098 0.64705882 0.62745098]\n",
            "   [0.63921569 0.64313725 0.62745098]]\n",
            "\n",
            "  [[0.54901961 0.40784314 0.14117647]\n",
            "   [0.54509804 0.40784314 0.14901961]\n",
            "   [0.55686275 0.41960784 0.16078431]\n",
            "   ...\n",
            "   [0.60784314 0.64705882 0.63137255]\n",
            "   [0.62352941 0.64705882 0.62745098]\n",
            "   [0.62745098 0.64313725 0.63137255]]\n",
            "\n",
            "  ...\n",
            "\n",
            "  [[0.09803922 0.16470588 0.40392157]\n",
            "   [0.09411765 0.16470588 0.41176471]\n",
            "   [0.07843137 0.16862745 0.41176471]\n",
            "   ...\n",
            "   [0.07843137 0.16862745 0.41176471]\n",
            "   [0.07058824 0.17254902 0.41568627]\n",
            "   [0.07843137 0.16862745 0.41568627]]\n",
            "\n",
            "  [[0.07843137 0.17254902 0.40784314]\n",
            "   [0.0745098  0.16862745 0.41176471]\n",
            "   [0.07058824 0.16862745 0.41176471]\n",
            "   ...\n",
            "   [0.07058824 0.17254902 0.40784314]\n",
            "   [0.0745098  0.17647059 0.41176471]\n",
            "   [0.07058824 0.17254902 0.40784314]]\n",
            "\n",
            "  [[0.06666667 0.17647059 0.39607843]\n",
            "   [0.0627451  0.18431373 0.39215686]\n",
            "   [0.0627451  0.18431373 0.39215686]\n",
            "   ...\n",
            "   [0.06666667 0.17647059 0.39607843]\n",
            "   [0.0627451  0.17647059 0.39607843]\n",
            "   [0.0627451  0.17647059 0.39607843]]]\n",
            "\n",
            "\n",
            " [[[0.29803922 0.17254902 0.40392157]\n",
            "   [0.54117647 0.40784314 0.64705882]\n",
            "   [0.59215686 0.45098039 0.70588235]\n",
            "   ...\n",
            "   [0.5372549  0.38431373 0.69803922]\n",
            "   [0.53333333 0.38039216 0.69019608]\n",
            "   [0.54509804 0.39215686 0.69803922]]\n",
            "\n",
            "  [[0.59215686 0.45882353 0.69803922]\n",
            "   [0.59215686 0.45098039 0.70196078]\n",
            "   [0.56470588 0.41568627 0.67843137]\n",
            "   ...\n",
            "   [0.5372549  0.38039216 0.69803922]\n",
            "   [0.5254902  0.37254902 0.67843137]\n",
            "   [0.54901961 0.39607843 0.70196078]]\n",
            "\n",
            "  [[0.58823529 0.43921569 0.69019608]\n",
            "   [0.59215686 0.43921569 0.69803922]\n",
            "   [0.58039216 0.42745098 0.69019608]\n",
            "   ...\n",
            "   [0.5372549  0.38431373 0.70196078]\n",
            "   [0.51372549 0.36078431 0.66666667]\n",
            "   [0.55294118 0.4        0.70588235]]\n",
            "\n",
            "  ...\n",
            "\n",
            "  [[0.21176471 0.15686275 0.35294118]\n",
            "   [0.07843137 0.03921569 0.38431373]\n",
            "   [0.04313725 0.03529412 0.41568627]\n",
            "   ...\n",
            "   [0.03137255 0.01960784 0.40784314]\n",
            "   [0.03921569 0.01960784 0.40784314]\n",
            "   [0.03921569 0.01960784 0.40784314]]\n",
            "\n",
            "  [[0.15294118 0.11372549 0.30980392]\n",
            "   [0.07058824 0.04705882 0.38823529]\n",
            "   [0.03529412 0.03529412 0.41960784]\n",
            "   ...\n",
            "   [0.03921569 0.01960784 0.40784314]\n",
            "   [0.03921569 0.01960784 0.40784314]\n",
            "   [0.03921569 0.01960784 0.40784314]]\n",
            "\n",
            "  [[0.02745098 0.00784314 0.19215686]\n",
            "   [0.0627451  0.04313725 0.38823529]\n",
            "   [0.03529412 0.03137255 0.41960784]\n",
            "   ...\n",
            "   [0.03921569 0.01960784 0.40784314]\n",
            "   [0.03921569 0.01960784 0.40784314]\n",
            "   [0.03921569 0.01960784 0.40784314]]]\n",
            "\n",
            "\n",
            " ...\n",
            "\n",
            "\n",
            " [[[0.17254902 0.17647059 0.39607843]\n",
            "   [0.16470588 0.17254902 0.38823529]\n",
            "   [0.14901961 0.16470588 0.38039216]\n",
            "   ...\n",
            "   [0.17254902 0.2        0.42352941]\n",
            "   [0.17254902 0.2        0.42352941]\n",
            "   [0.17254902 0.2        0.42352941]]\n",
            "\n",
            "  [[0.30588235 0.30196078 0.51764706]\n",
            "   [0.31372549 0.30980392 0.52941176]\n",
            "   [0.29411765 0.30196078 0.51764706]\n",
            "   ...\n",
            "   [0.17254902 0.2        0.42352941]\n",
            "   [0.17254902 0.2        0.42352941]\n",
            "   [0.16470588 0.2        0.42352941]]\n",
            "\n",
            "  [[0.31372549 0.30196078 0.52156863]\n",
            "   [0.29803922 0.29411765 0.51372549]\n",
            "   [0.30196078 0.30196078 0.5254902 ]\n",
            "   ...\n",
            "   [0.15686275 0.18431373 0.41960784]\n",
            "   [0.16078431 0.2        0.42745098]\n",
            "   [0.16470588 0.2        0.43137255]]\n",
            "\n",
            "  ...\n",
            "\n",
            "  [[0.14117647 0.19215686 0.41176471]\n",
            "   [0.14117647 0.19215686 0.41176471]\n",
            "   [0.14117647 0.19215686 0.41176471]\n",
            "   ...\n",
            "   [0.14117647 0.18823529 0.41568627]\n",
            "   [0.14117647 0.18823529 0.41568627]\n",
            "   [0.13333333 0.18039216 0.40784314]]\n",
            "\n",
            "  [[0.14117647 0.19607843 0.40392157]\n",
            "   [0.14117647 0.19607843 0.40392157]\n",
            "   [0.14117647 0.19607843 0.40392157]\n",
            "   ...\n",
            "   [0.12156863 0.16862745 0.39607843]\n",
            "   [0.12156863 0.16862745 0.39607843]\n",
            "   [0.12156863 0.16862745 0.39607843]]\n",
            "\n",
            "  [[0.14509804 0.19215686 0.40392157]\n",
            "   [0.14117647 0.19607843 0.40392157]\n",
            "   [0.14117647 0.19607843 0.40392157]\n",
            "   ...\n",
            "   [0.1372549  0.18431373 0.41176471]\n",
            "   [0.14117647 0.18823529 0.41568627]\n",
            "   [0.1372549  0.18431373 0.41176471]]]\n",
            "\n",
            "\n",
            " [[[0.03921569 0.03921569 0.29019608]\n",
            "   [0.03921569 0.03921569 0.29019608]\n",
            "   [0.04313725 0.03529412 0.29411765]\n",
            "   ...\n",
            "   [0.07843137 0.05098039 0.30980392]\n",
            "   [0.09019608 0.05490196 0.31372549]\n",
            "   [0.09803922 0.05882353 0.31764706]]\n",
            "\n",
            "  [[0.04705882 0.04705882 0.29803922]\n",
            "   [0.05098039 0.04705882 0.29803922]\n",
            "   [0.05098039 0.03921569 0.30196078]\n",
            "   ...\n",
            "   [0.05882353 0.0627451  0.30196078]\n",
            "   [0.05882353 0.05098039 0.29803922]\n",
            "   [0.08235294 0.0745098  0.32156863]]\n",
            "\n",
            "  [[0.05098039 0.04705882 0.29803922]\n",
            "   [0.05098039 0.04705882 0.29803922]\n",
            "   [0.05098039 0.04313725 0.30196078]\n",
            "   ...\n",
            "   [0.23137255 0.30588235 0.51764706]\n",
            "   [0.25098039 0.32156863 0.53333333]\n",
            "   [0.19215686 0.2627451  0.4745098 ]]\n",
            "\n",
            "  ...\n",
            "\n",
            "  [[0.36078431 0.37647059 0.45882353]\n",
            "   [0.41568627 0.43921569 0.52156863]\n",
            "   [0.43529412 0.49019608 0.57647059]\n",
            "   ...\n",
            "   [0.05882353 0.02352941 0.30980392]\n",
            "   [0.05882353 0.02352941 0.30980392]\n",
            "   [0.05882353 0.02352941 0.30980392]]\n",
            "\n",
            "  [[0.36078431 0.37254902 0.45490196]\n",
            "   [0.41568627 0.43529412 0.52941176]\n",
            "   [0.43137255 0.49019608 0.58039216]\n",
            "   ...\n",
            "   [0.05490196 0.01960784 0.30588235]\n",
            "   [0.05882353 0.02352941 0.30980392]\n",
            "   [0.05882353 0.02352941 0.30980392]]\n",
            "\n",
            "  [[0.3254902  0.3372549  0.41960784]\n",
            "   [0.38431373 0.40784314 0.50196078]\n",
            "   [0.43137255 0.48627451 0.57647059]\n",
            "   ...\n",
            "   [0.04705882 0.01176471 0.29803922]\n",
            "   [0.05882353 0.02352941 0.30980392]\n",
            "   [0.05882353 0.02352941 0.30980392]]]\n",
            "\n",
            "\n",
            " [[[0.01176471 0.23529412 0.42745098]\n",
            "   [0.08235294 0.22352941 0.41176471]\n",
            "   [0.04705882 0.10196078 0.32156863]\n",
            "   ...\n",
            "   [0.         0.00392157 0.3254902 ]\n",
            "   [0.00392157 0.01960784 0.32941176]\n",
            "   [0.00392157 0.02352941 0.32941176]]\n",
            "\n",
            "  [[0.0745098  0.21960784 0.44313725]\n",
            "   [0.03529412 0.1254902  0.35294118]\n",
            "   [0.01568627 0.04313725 0.29411765]\n",
            "   ...\n",
            "   [0.         0.00784314 0.34117647]\n",
            "   [0.00392157 0.01176471 0.34117647]\n",
            "   [0.00392157 0.01960784 0.34117647]]\n",
            "\n",
            "  [[0.         0.03921569 0.31372549]\n",
            "   [0.         0.01960784 0.29411765]\n",
            "   [0.00784314 0.01960784 0.30196078]\n",
            "   ...\n",
            "   [0.00784314 0.00784314 0.35686275]\n",
            "   [0.00392157 0.01176471 0.35686275]\n",
            "   [0.00392157 0.01176471 0.35686275]]\n",
            "\n",
            "  ...\n",
            "\n",
            "  [[0.69411765 0.6        0.65882353]\n",
            "   [0.72941176 0.65098039 0.70196078]\n",
            "   [0.76862745 0.69803922 0.74509804]\n",
            "   ...\n",
            "   [0.49803922 0.31764706 0.2745098 ]\n",
            "   [0.61960784 0.43921569 0.39607843]\n",
            "   [0.65882353 0.47843137 0.43921569]]\n",
            "\n",
            "  [[0.75294118 0.68235294 0.7372549 ]\n",
            "   [0.74117647 0.6745098  0.7254902 ]\n",
            "   [0.74117647 0.69019608 0.7372549 ]\n",
            "   ...\n",
            "   [0.65490196 0.4745098  0.42745098]\n",
            "   [0.6627451  0.48627451 0.43529412]\n",
            "   [0.65490196 0.47843137 0.42352941]]\n",
            "\n",
            "  [[0.2745098  0.30588235 0.34509804]\n",
            "   [0.28627451 0.31372549 0.34901961]\n",
            "   [0.26666667 0.28627451 0.31764706]\n",
            "   ...\n",
            "   [0.6627451  0.48235294 0.43529412]\n",
            "   [0.6745098  0.49803922 0.44705882]\n",
            "   [0.67843137 0.50196078 0.44705882]]]]\n",
            "[[1. 0. 0. ... 0. 0. 0.]\n",
            " [1. 0. 0. ... 0. 0. 0.]\n",
            " [1. 0. 0. ... 0. 0. 0.]\n",
            " ...\n",
            " [0. 0. 0. ... 0. 0. 1.]\n",
            " [0. 0. 0. ... 0. 0. 1.]\n",
            " [0. 0. 0. ... 0. 0. 1.]]\n",
            "28/28 [==============================] - 1s 29ms/step - loss: 0.1094 - accuracy: 0.9730\n"
          ]
        },
        {
          "data": {
            "text/plain": [
              "[0.10940886288881302, 0.9730337262153625]"
            ]
          },
          "execution_count": 63,
          "metadata": {},
          "output_type": "execute_result"
        }
      ],
      "source": [
        "print(X_t)\n",
        "print(y_t)\n",
        "model.evaluate(X_t, y_t, batch_size=32, verbose=1)"
      ]
    },
    {
      "cell_type": "markdown",
      "metadata": {
        "id": "tv0UeEyQh-6g"
      },
      "source": [
        "*Observamos que sobre los datos de test el loss es 0.10 y la precisión de un 97%*"
      ]
    },
    {
      "cell_type": "markdown",
      "metadata": {
        "id": "qBts3KSCjif2"
      },
      "source": [
        "**Almacenamos todas las predicciones para los datos de test.**"
      ]
    },
    {
      "cell_type": "code",
      "execution_count": null,
      "metadata": {
        "colab": {
          "base_uri": "https://localhost:8080/",
          "height": 33
        },
        "id": "3sadIwzSintD",
        "outputId": "3014b0e1-f9f0-485c-a86b-4c6e0b3f7e31"
      },
      "outputs": [
        {
          "name": "stdout",
          "output_type": "stream",
          "text": [
            "28/28 [==============================] - 1s 29ms/step\n"
          ]
        }
      ],
      "source": [
        "prediccion=model.predict(X_t, batch_size=32, verbose=1)  # Almacenamos todas las predicciones para los datos de test"
      ]
    },
    {
      "cell_type": "code",
      "execution_count": null,
      "metadata": {
        "colab": {
          "base_uri": "https://localhost:8080/",
          "height": 251
        },
        "id": "tS2CvoOToQN3",
        "outputId": "803683cc-1a8d-41f5-8c9c-2299fdfbcb88"
      },
      "outputs": [
        {
          "name": "stdout",
          "output_type": "stream",
          "text": [
            "[[9.9968207e-01 1.3606651e-09 6.4128573e-05 ... 1.4002539e-07\n",
            "  1.1733844e-10 1.3409817e-08]\n",
            " [7.1981364e-01 1.1357038e-06 1.1779863e-02 ... 1.5948972e-04\n",
            "  1.8885781e-04 1.2812106e-06]\n",
            " [5.1256049e-01 2.9035474e-08 3.7298086e-01 ... 8.4992837e-07\n",
            "  1.9933697e-09 4.0921346e-09]\n",
            " ...\n",
            " [9.3165872e-05 4.9715425e-07 2.3735680e-05 ... 1.0862795e-04\n",
            "  3.6344952e-03 9.9327236e-01]\n",
            " [8.0838981e-06 5.8264678e-08 2.6797257e-05 ... 2.0669088e-06\n",
            "  5.8025830e-07 9.9994099e-01]\n",
            " [1.3380360e-07 3.9205189e-10 3.9959108e-05 ... 1.8938298e-06\n",
            "  2.7458327e-09 9.9555725e-01]]\n"
          ]
        },
        {
          "data": {
            "text/plain": [
              "(890, 18)"
            ]
          },
          "execution_count": 65,
          "metadata": {},
          "output_type": "execute_result"
        }
      ],
      "source": [
        "print(prediccion)\n",
        "prediccion.shape"
      ]
    },
    {
      "cell_type": "code",
      "execution_count": null,
      "metadata": {
        "colab": {
          "base_uri": "https://localhost:8080/",
          "height": 117
        },
        "id": "Q7cwzAWpj8hf",
        "outputId": "4f117a31-9cc5-4537-a638-bba125b2a1d2"
      },
      "outputs": [
        {
          "name": "stdout",
          "output_type": "stream",
          "text": [
            "[9.99682069e-01 1.36066514e-09 6.41285733e-05 8.87962324e-06\n",
            " 2.54729535e-08 5.21099075e-09 1.27335795e-08 2.68702006e-05\n",
            " 1.44138734e-09 8.45882120e-09 2.09959893e-04 1.18510130e-07\n",
            " 1.66266830e-07 7.70733004e-06 2.54759183e-08 1.40025392e-07\n",
            " 1.17338445e-10 1.34098173e-08]\n",
            "0\n",
            "abraham_grampa_simpson\n"
          ]
        }
      ],
      "source": [
        "print(prediccion[0]) # Ejemplo de predicción para el primer elemento del test.\n",
        "predicho = np.argmax(prediccion[0])  # Nos quedamos con la posición del valor máximo de las estimaciones de probabilidad para cada una de las 18 clases.\n",
        "print(predicho)\n",
        "print(MAP_CHARACTERS[predicho]) # Acceso al diccionario para mostrar el nombre del personaje predicho."
      ]
    },
    {
      "cell_type": "code",
      "execution_count": null,
      "metadata": {
        "colab": {
          "base_uri": "https://localhost:8080/",
          "height": 33
        },
        "id": "pAiIOrRkozTb",
        "outputId": "647cbc98-acf3-4a7c-e17d-dc218409b5f8"
      },
      "outputs": [
        {
          "data": {
            "text/plain": [
              "(890, 18)"
            ]
          },
          "execution_count": 67,
          "metadata": {},
          "output_type": "execute_result"
        }
      ],
      "source": [
        "y_t.shape"
      ]
    },
    {
      "cell_type": "markdown",
      "metadata": {
        "id": "iBxzSqndslCE"
      },
      "source": [
        "**Análisis de resultados, obtención de métricas de precision y recall por clase y análisis de qué clases obtienen mejores o peores resultados.**"
      ]
    },
    {
      "cell_type": "code",
      "execution_count": null,
      "metadata": {
        "colab": {
          "base_uri": "https://localhost:8080/",
          "height": 435
        },
        "id": "6WjIO0-ulqYF",
        "outputId": "801c07c9-634c-4c2f-8e75-600e3d660a20"
      },
      "outputs": [
        {
          "name": "stdout",
          "output_type": "stream",
          "text": [
            "              precision    recall  f1-score   support\n",
            "\n",
            "           0       1.00      0.94      0.97        48\n",
            "           1       0.98      0.98      0.98        50\n",
            "           2       0.98      0.96      0.97        50\n",
            "           3       0.98      0.94      0.96        48\n",
            "           4       0.98      0.96      0.97        50\n",
            "           5       0.98      1.00      0.99        49\n",
            "           6       0.98      0.90      0.94        50\n",
            "           7       0.91      0.98      0.94        50\n",
            "           8       0.98      1.00      0.99        50\n",
            "           9       0.96      1.00      0.98        50\n",
            "          10       0.94      1.00      0.97        50\n",
            "          11       1.00      0.98      0.99        50\n",
            "          12       0.94      0.98      0.96        49\n",
            "          13       0.98      0.96      0.97        50\n",
            "          14       0.98      1.00      0.99        49\n",
            "          15       0.98      0.96      0.97        50\n",
            "          16       0.98      0.98      0.98        50\n",
            "          17       1.00      1.00      1.00        47\n",
            "\n",
            "    accuracy                           0.97       890\n",
            "   macro avg       0.97      0.97      0.97       890\n",
            "weighted avg       0.97      0.97      0.97       890\n",
            "\n"
          ]
        }
      ],
      "source": [
        "from sklearn.metrics import confusion_matrix, classification_report\n",
        "informe = classification_report(np.argmax(y_t,axis=1), np.argmax(prediccion,axis=1))\n",
        "print(informe)\n"
      ]
    },
    {
      "cell_type": "markdown",
      "metadata": {
        "id": "Co41FZG1qCaA"
      },
      "source": [
        "*Vemos que la menor precisión es del 91% al clasificar las imágenes de Homer Simpson (número 7), mientras que la mayor precisión se consigue al clasificar las imágenes correspondientes a Chief Wiggum (número 4) y Principal Skinner (número 16).*"
      ]
    },
    {
      "cell_type": "markdown",
      "metadata": {
        "id": "7WBI15_Uz26c"
      },
      "source": [
        "\n",
        "**Mejoras** <br>\n",
        "*Podríamos hacer data augmentation mediante el preprocesamiento de las imágenes predichas con menor precisión usando la clase ImageDataGenerator. Para ello podríamos fijarnos si están descentradas, oscuras etc. realizando transformaciones de rotación, desplazamientos y cambios de brillo según el caso.*\n",
        "\n",
        "\n"
      ]
    }
  ],
  "metadata": {
    "accelerator": "GPU",
    "colab": {
      "provenance": []
    },
    "kernelspec": {
      "display_name": "Python 3",
      "name": "python3"
    },
    "language_info": {
      "codemirror_mode": {
        "name": "ipython",
        "version": 3
      },
      "file_extension": ".py",
      "mimetype": "text/x-python",
      "name": "python",
      "nbconvert_exporter": "python",
      "pygments_lexer": "ipython3",
      "version": "3.11.5"
    }
  },
  "nbformat": 4,
  "nbformat_minor": 0
}
