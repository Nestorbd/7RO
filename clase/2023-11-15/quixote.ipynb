{
  "cells": [
    {
      "cell_type": "markdown",
      "metadata": {
        "colab_type": "text",
        "id": "mX8gZlVyCCbz"
      },
      "source": [
        "# Laboratorio: Modelos del lenguaje con RNNs\n",
        "\n",
        "En este laboratorio, vamos a entrenar un modelo del lenguaje basado en caracteres con Recurrent Neural Networks. Asimismo, utilizaremos el modelo para generar texto. En particular, alimentaremos nuestro modelo con obras de la literatura clásica en castellano para obtener una red neuronal que sea capaz de \"escribir\" fragmentos literarios.\n",
        "\n",
        "Los entrenamientos en esta laboratorio para obtener un modelo de calidad podrían tomar cierto tiempo (5-10 minutos por epoch), por lo que se aconseja empezar a trabajar pronto. El uso de GPUs no ayuda tanto con LSTMs como con CNNs, por lo que si tenéis máquinas potentes en casa es posible que podáis entrenar más rápido o a la misma velocidad que en Colab. En todo caso, la potencia de Colab es más que suficiente para completar este laboratorio con éxito.\n",
        "\n",
        "<center><img src=\"https://upload.wikimedia.org/wikipedia/commons/d/d8/El_ingenioso_hidalgo_don_Quijote_de_la_Mancha.jpg\" style=\"text-align: center\" height=\"300px\"></center>\n",
        "\n",
        "El dataset a utilizar consistirá en un archivo de texto con el contenido íntegro en castellano antiguo de El Ingenioso Hidalgo Don Quijote de la Mancha, disponible de manera libre en la página de [Project Gutenberg](https://www.gutenberg.org). Asimismo, como apartado optativo en este laboratorio se pueden utilizar otras fuentes de texto. Aquí podéis descargar los datos a utilizar de El Quijote y un par de obras adicionales:\n",
        "\n",
        "[El ingenioso hidalgo Don Quijote de la Mancha (Miguel de Cervantes)](https://onedrive.live.com/download?cid=C506CF0A4F373B0F&resid=C506CF0A4F373B0F%219424&authkey=AH0gb-qSo5Xd7Io)\n",
        "\n",
        "[Compilación de obras teatrales (Calderón de la Barca)](https://onedrive.live.com/download?cid=C506CF0A4F373B0F&resid=C506CF0A4F373B0F%219433&authkey=AKvGD6DC3IRBqmc)\n",
        "\n",
        "[Trafalgar (Benito Pérez Galdós)](https://onedrive.live.com/download?cid=C506CF0A4F373B0F&resid=C506CF0A4F373B0F%219434&authkey=AErPCAtMKOI5tYQ)\n",
        "\n",
        "Como ya deberíamos de estar acostumbrados en problemas de Machine Learning, es importante echar un vistazo a los datos antes de empezar."
      ]
    },
    {
      "cell_type": "markdown",
      "metadata": {
        "colab_type": "text",
        "id": "QI274F8LQC59"
      },
      "source": [
        "## 1. Carga y procesado del texto"
      ]
    },
    {
      "cell_type": "markdown",
      "metadata": {
        "colab_type": "text",
        "id": "MZNnzvXuqVVm"
      },
      "source": [
        "Primero, vamos a descargar el libro e inspeccionar los datos. El fichero a descargar es una versión en .txt del libro de Don Quijote, a la cual se le han borrado introducciones, licencias y otras secciones para dejarlo con el contenido real de la novela."
      ]
    },
    {
      "cell_type": "code",
      "execution_count": 1,
      "metadata": {
        "colab": {},
        "colab_type": "code",
        "id": "D7tKOZ9BFfki"
      },
      "outputs": [
        {
          "name": "stdout",
          "output_type": "stream",
          "text": [
            "Downloading data from https://onedrive.live.com/download?cid=C506CF0A4F373B0F&resid=C506CF0A4F373B0F%219424&authkey=AH0gb-qSo5Xd7Io\n",
            "2151176/2151176 [==============================] - 0s 0us/step\n"
          ]
        }
      ],
      "source": [
        "import numpy as np \n",
        "import keras\n",
        "import matplotlib.pyplot as plt\n",
        "from keras.callbacks import LambdaCallback\n",
        "from keras.models import Sequential\n",
        "from keras.layers import Dense\n",
        "from keras.layers import LSTM\n",
        "import random\n",
        "import io\n",
        "\n",
        "path = keras.utils.get_file(\n",
        "    fname=\"don_quijote.txt\", \n",
        "    origin=\"https://onedrive.live.com/download?cid=C506CF0A4F373B0F&resid=C506CF0A4F373B0F%219424&authkey=AH0gb-qSo5Xd7Io\"\n",
        ")"
      ]
    },
    {
      "cell_type": "markdown",
      "metadata": {
        "colab_type": "text",
        "id": "VYGLvjLXrUUd"
      },
      "source": [
        "Una vez descargado, vamos a leer el contenido del fichero en una variable. Adicionalmente, convertiremos el contenido del texto a minúsculas para ponérselo un poco más fácil a nuestro modelo (de modo que todas las letras sean minúsculas y el modelo no necesite diferenciar entre minúsculas y mayúsculas).\n",
        "\n",
        "**1.1.** Leer todo el contenido del fichero en una única variable ***text*** y convertir el string a minúsculas"
      ]
    },
    {
      "cell_type": "markdown",
      "metadata": {
        "colab_type": "text",
        "id": "k0PwGvgahdKm"
      },
      "source": [
        "**CARGANDO LOS DATOS**"
      ]
    },
    {
      "cell_type": "code",
      "execution_count": 2,
      "metadata": {
        "colab": {},
        "colab_type": "code",
        "id": "8WB6FejrrTu9"
      },
      "outputs": [],
      "source": [
        "## TU CÓDIGO AQUÍ\n",
        "text=open(path).read().lower()"
      ]
    },
    {
      "cell_type": "markdown",
      "metadata": {
        "colab_type": "text",
        "id": "dkgGl8GWtUk8"
      },
      "source": [
        "Podemos comprobar ahora que efectivamente nuestra variable contiene el resultado deseado, con el comienzo tan característico del Quijote."
      ]
    },
    {
      "cell_type": "code",
      "execution_count": 3,
      "metadata": {
        "colab": {
          "base_uri": "https://localhost:8080/",
          "height": 151
        },
        "colab_type": "code",
        "id": "hMFhe3COFwSD",
        "outputId": "22e6d42c-0611-4275-ef33-93bd59bb8dd0"
      },
      "outputs": [
        {
          "name": "stdout",
          "output_type": "stream",
          "text": [
            "Longitud del texto: 2071198\n",
            "capítulo primero. que trata de la condición y ejercicio del famoso hidalgo\n",
            "don quijote de la mancha\n",
            "\n",
            "\n",
            "en un lugar de la mancha, de cuyo nombre no quiero acordarme, no ha mucho\n",
            "tiempo que vivía un hidalgo de los de lanza en astillero, adarga antigua,\n",
            "rocín flaco y galgo corredor. una olla de algo más\n"
          ]
        }
      ],
      "source": [
        "print(\"Longitud del texto: {}\".format(len(text)))\n",
        "print(text[0:300])"
      ]
    },
    {
      "cell_type": "markdown",
      "metadata": {
        "colab_type": "text",
        "id": "bZ7TUXWiyvOj"
      },
      "source": [
        "## 2. Procesado de los datos"
      ]
    },
    {
      "cell_type": "markdown",
      "metadata": {
        "colab_type": "text",
        "id": "x66_Vi_Gyxns"
      },
      "source": [
        "Una de las grandes ventajas de trabajar con modelos que utilizan caracteres en vez de palabras es que no necesitamos tokenizar el texto (partirlo palabra a palabra). Nuestro modelo funcionará directamente con los caracteres en el texto, incluyendo espacios, saltos de línea, etc.\n",
        "\n",
        "Antes de hacer nada, necesitamos procesar el texto en entradas y salidas compatibles con nuestro modelo. Como sabemos, un modelo del lenguaje con RNNs acepta una serie de caracteres y predice el siguiente carácter en la secuencia.\n",
        "\n",
        "* \"*El ingenioso don Qui*\" -> predicción: **j**\n",
        "* \"*El ingenioso don Quij*\" -> predicción: **o**\n",
        "\n",
        "De modo que la entrada y la salida de nuestro modelo necesita ser algo parecido a este esquema. En este punto, podríamos usar dos formas de preparar los datos para nuestro modelo.\n",
        "\n",
        "1. **Secuencia a secuencia**. La entrada de nuestro modelo sería una secuencia y la salida sería esa secuencia trasladada un caracter a la derecha, de modo que en cada instante de tiempo la RNN tiene que predecir el carácter siguiente. Por ejemplo:\n",
        "\n",
        ">* *Input*:   El ingenioso don Quijot \n",
        ">* *Output*: l ingenioso don Quijote\n",
        "\n",
        "2. **Secuencia a carácter**. En este variante, pasaríamos una secuencia de caracteres por nuestra RNN y, al llegar al final de la secuencia, predeciríamos el siguiente carácter.\n",
        "\n",
        ">* *Input*:   El ingenioso don Quijot \n",
        ">* *Output*: e\n",
        "\n",
        "En este laboratorio, por simplicidad, vamos a utilizar la segunda variante.\n",
        "\n",
        "De este modo, a partir del texto, hemos de generar nuestro propio training data que consista en secuencias de caracteres con el siguiente carácter a predecir. Para estandarizar las cosas, utilizaremos secuencias de tamaño *SEQ_LENGTH* caracteres (un hiperparámetro que podemos elegir nosotros).\n",
        "\n"
      ]
    },
    {
      "cell_type": "markdown",
      "metadata": {
        "colab_type": "text",
        "id": "mkfJUIxW5m5C"
      },
      "source": [
        "#### 2.1. Obtención de los caracteres y mapas de caracteres\n",
        "\n",
        "Antes que nada, necesitamos saber qué caracteres aparecen en el texto, ya que tendremos que diferenciarlos mediante un índice de 0 a *num_chars* - 1 en el modelo. Obtener:\n",
        " \n",
        "\n",
        "1.   Número de caracteres únicos que aparecen en el texto.\n",
        "2.   Diccionario que asocia char a índice único entre 0 y *num_chars* - 1. Por ejemplo, {'a': 0, 'b': 1, ...}\n",
        "3.   Diccionario reverso de índices a caracteres: {0: 'a', 1: 'b', ...}\n"
      ]
    },
    {
      "cell_type": "code",
      "execution_count": 4,
      "metadata": {
        "colab": {
          "base_uri": "https://localhost:8080/",
          "height": 87
        },
        "colab_type": "code",
        "id": "5bJ0NsbCbupF",
        "outputId": "ef232315-65b2-4dea-93cc-229e934dae36"
      },
      "outputs": [
        {
          "name": "stdout",
          "output_type": "stream",
          "text": [
            "Caracteres únicos: 61\n",
            "{'\\n': 0, ' ': 1, '!': 2, '\"': 3, \"'\": 4, '(': 5, ')': 6, ',': 7, '-': 8, '.': 9, '0': 10, '1': 11, '2': 12, '3': 13, '4': 14, '5': 15, '6': 16, '7': 17, ':': 18, ';': 19, '?': 20, ']': 21, 'a': 22, 'b': 23, 'c': 24, 'd': 25, 'e': 26, 'f': 27, 'g': 28, 'h': 29, 'i': 30, 'j': 31, 'l': 32, 'm': 33, 'n': 34, 'o': 35, 'p': 36, 'q': 37, 'r': 38, 's': 39, 't': 40, 'u': 41, 'v': 42, 'w': 43, 'x': 44, 'y': 45, 'z': 46, '¡': 47, '«': 48, '»': 49, '¿': 50, 'à': 51, 'á': 52, 'é': 53, 'í': 54, 'ï': 55, 'ñ': 56, 'ó': 57, 'ù': 58, 'ú': 59, 'ü': 60}\n",
            "{0: '\\n', 1: ' ', 2: '!', 3: '\"', 4: \"'\", 5: '(', 6: ')', 7: ',', 8: '-', 9: '.', 10: '0', 11: '1', 12: '2', 13: '3', 14: '4', 15: '5', 16: '6', 17: '7', 18: ':', 19: ';', 20: '?', 21: ']', 22: 'a', 23: 'b', 24: 'c', 25: 'd', 26: 'e', 27: 'f', 28: 'g', 29: 'h', 30: 'i', 31: 'j', 32: 'l', 33: 'm', 34: 'n', 35: 'o', 36: 'p', 37: 'q', 38: 'r', 39: 's', 40: 't', 41: 'u', 42: 'v', 43: 'w', 44: 'x', 45: 'y', 46: 'z', 47: '¡', 48: '«', 49: '»', 50: '¿', 51: 'à', 52: 'á', 53: 'é', 54: 'í', 55: 'ï', 56: 'ñ', 57: 'ó', 58: 'ù', 59: 'ú', 60: 'ü'}\n"
          ]
        }
      ],
      "source": [
        "## TU CÓDIGO AQUÍ\n",
        "chars=sorted(list(set(text)))\n",
        "char_indices=dict((c,i) for i,c in enumerate(chars))\n",
        "indices_char=dict((i,c) for i,c in enumerate(chars))\n",
        "print('Caracteres únicos: {}'.format(len(chars)))\n",
        "print(char_indices)\n",
        "print(indices_char)"
      ]
    },
    {
      "cell_type": "markdown",
      "metadata": {
        "colab_type": "text",
        "id": "Y_B4AWo0ElwA"
      },
      "source": [
        "#### 2.2. Obtención de secuencias de entrada y carácter a predecir\n",
        "\n",
        "Ahora, vamos a obtener las secuencias de entrada en formato texto y los correspondientes caracteres a predecir. Para ello, recorrer el texto completo leído anteriormente, obteniendo una secuencia de SEQ_LENGTH caracteres y el siguiente caracter a predecir. Una vez hecho, desplazarse un carácter a la izquierda y hacer lo mismo para obtener una nueva secuencia y predicción. Guardar las secuencias en una variable ***sequences*** y los caracteres a predecir en una variable ***next_chars***.\n",
        "\n",
        "Por ejemplo, si el texto fuera \"Don Quijote\" y SEQ_LENGTH fuese 5, tendríamos\n",
        "\n",
        "* *sequences* = [\"Don Q\", \"on Qu\", \"n Qui\", \" Quij\", \"Quijo\", \"uijot\"]\n",
        "* *next_chars* = ['u', 'i', 'j', 'o', 't', 'e']"
      ]
    },
    {
      "cell_type": "code",
      "execution_count": 5,
      "metadata": {
        "colab": {},
        "colab_type": "code",
        "id": "sJZAdh24ra5c"
      },
      "outputs": [],
      "source": [
        "# Definimos el tamaño de las secuencias. Puedes dejar este valor por defecto.\n",
        "SEQ_LENGTH = 30\n",
        "# Espacio entre sentencias\n",
        "step=1 # Para que la siguiente sentencia esté desplazada un caracter a la izquierda.\n",
        "sequences = []\n",
        "next_chars = [] # siguiente caracter a predecir para la sentencia asociada.\n",
        "\n",
        "## TU CÓDIGO AQUÍ\n",
        "for i in range(0,len(text)-SEQ_LENGTH, step):\n",
        "  sequences.append(text[i:i+SEQ_LENGTH])\n",
        "  next_chars.append(text[i+SEQ_LENGTH])\n"
      ]
    },
    {
      "cell_type": "code",
      "execution_count": 6,
      "metadata": {
        "colab": {
          "base_uri": "https://localhost:8080/",
          "height": 84
        },
        "colab_type": "code",
        "id": "-tiCQiXHrmbs",
        "outputId": "b5df366c-5077-4b27-bef4-30ff4f093ed6"
      },
      "outputs": [
        {
          "name": "stdout",
          "output_type": "stream",
          "text": [
            "Ejemplo: secuencia número 7:\n",
            "lo primero. que trata de la co\n",
            "Siguiente caracter:\n",
            "n\n"
          ]
        }
      ],
      "source": [
        "print('Ejemplo: secuencia número 7:')\n",
        "print(sequences[6])\n",
        "print('Siguiente caracter:')\n",
        "print(next_chars[6])"
      ]
    },
    {
      "cell_type": "markdown",
      "metadata": {
        "colab_type": "text",
        "id": "1Y3AmjYtHdLJ"
      },
      "source": [
        "Indicar el tamaño del training set que acabamos de generar."
      ]
    },
    {
      "cell_type": "code",
      "execution_count": 7,
      "metadata": {
        "colab": {
          "base_uri": "https://localhost:8080/",
          "height": 34
        },
        "colab_type": "code",
        "id": "WVWqKxFcbwTu",
        "outputId": "76e3e6af-2de3-4072-8c91-90fac95337ff"
      },
      "outputs": [
        {
          "name": "stdout",
          "output_type": "stream",
          "text": [
            "número de datos de training:2071168\n"
          ]
        }
      ],
      "source": [
        "## TU CÓDIGO AQUÍ\n",
        "print('número de datos de training:{}'.format(len(sequences)))"
      ]
    },
    {
      "cell_type": "markdown",
      "metadata": {
        "colab_type": "text",
        "id": "goGQkKcwpLRJ"
      },
      "source": [
        "Como el Quijote es muy largo y tenemos muchas secuencias, podríamos encontrar problemas de memoria. Por ello, vamos a elegir un número máximo de ellas. Si estás corriendo esto localmente y tienes problemas de memoria, puedes reducir el tamaño aún más, pero ten cuidado porque, a menos datos, peor calidad del modelo."
      ]
    },
    {
      "cell_type": "code",
      "execution_count": 8,
      "metadata": {
        "colab": {
          "base_uri": "https://localhost:8080/",
          "height": 34
        },
        "colab_type": "code",
        "id": "2pm1Q19ppw8F",
        "outputId": "33cacad9-bd34-4a45-8309-039acadde9c5"
      },
      "outputs": [
        {
          "name": "stdout",
          "output_type": "stream",
          "text": [
            "500000\n"
          ]
        }
      ],
      "source": [
        "MAX_SEQUENCES = 500000\n",
        "\n",
        "perm = np.random.permutation(len(sequences))\n",
        "sequences, next_chars = np.array(sequences), np.array(next_chars)\n",
        "sequences, next_chars = sequences[perm], next_chars[perm]\n",
        "sequences, next_chars = list(sequences[:MAX_SEQUENCES]), list(next_chars[:MAX_SEQUENCES])\n",
        "\n",
        "print(len(sequences))"
      ]
    },
    {
      "cell_type": "markdown",
      "metadata": {
        "colab_type": "text",
        "id": "4FzgtAbPIs6f"
      },
      "source": [
        "#### 2.3. Obtención de input X y output y para el modelo\n",
        "\n",
        "Finalmente, a partir de los datos de entrenamiento que hemos generado vamos a crear los arrays de datos X e y que pasaremos a nuestro modelo.\n",
        "\n",
        "Para ello, vamos a utilizar *one-hot encoding* para nuestros caracteres. Por ejemplo, si sólo tuviéramos 4 caracteres (a, b, c, d), las representaciones serían: (1, 0, 0, 0), (0, 1, 0, 0), (0, 0, 1, 0) y (0, 0, 0, 1).\n",
        "\n",
        "De este modo, **X** tendrá shape *(num_sequences, seq_length, num_chars)* e **y** tendrá shape *(num_sequences, num_chars)*. \n",
        "\n"
      ]
    },
    {
      "cell_type": "code",
      "execution_count": 9,
      "metadata": {
        "colab": {},
        "colab_type": "code",
        "id": "zMBwZ9obNGNg"
      },
      "outputs": [],
      "source": [
        "NUM_CHARS = len(chars)  # Tu número de caracteres distintos aquí\n",
        "NUM_SEQUENCES = len(sequences)\n",
        "X = np.zeros((NUM_SEQUENCES, SEQ_LENGTH, NUM_CHARS))\n",
        "y = np.zeros((NUM_SEQUENCES, NUM_CHARS))\n",
        "\n",
        "## Tu código para rellenar X e y aquí. Pista: utilizar el diccionario de\n",
        "## chars a índices obtenido anteriormente junto con numpy. Por ejemplo,\n",
        "## si hacemos \n",
        "##     X[0, 1, char_to_indices['a']] = 1\n",
        "## estamos diciendo que para la segunda posición de la primera secuencia se\n",
        "## tiene una 'a'\n",
        "\n",
        "## TU CÓDIGO AQUÍ\n",
        "for i,sequence in enumerate(sequences): # i es el número de secuencia y sequence contiene los caracteres \n",
        "  for t,char in enumerate(sequence): # t recorre la longitud de la secuencia y char cada caracter de la secuencia \n",
        "    X[i,t,char_indices[char]]=1\n",
        "  y[i,char_indices[next_chars[i]]]=1"
      ]
    },
    {
      "cell_type": "code",
      "execution_count": 11,
      "metadata": {
        "colab": {
          "base_uri": "https://localhost:8080/",
          "height": 84
        },
        "colab_type": "code",
        "id": "hhI_6vnq0tB_",
        "outputId": "56e40c39-6d69-4de3-914a-8abc3995fb74"
      },
      "outputs": [
        {
          "name": "stdout",
          "output_type": "stream",
          "text": [
            "certidumbre qué tamaño tuviese\n",
            "certidumbre qué tamaño tuviese"
          ]
        }
      ],
      "source": [
        "# EJEMPLO: Comprobación de que cada caracter de la secuencia 0 tiene la codificación one-hot\n",
        "print(sequences[0])\n",
        "for j in range(SEQ_LENGTH):\n",
        "  for k in range(NUM_CHARS):\n",
        "    if (X[0,j,k]==1):\n",
        "      print(indices_char[k],end='')"
      ]
    },
    {
      "cell_type": "markdown",
      "metadata": {
        "colab_type": "text",
        "id": "IxeUxz3HPm3l"
      },
      "source": [
        "## 3. Definición del modelo y entrenamiento\n",
        "\n",
        "Una vez tenemos ya todo preparado, es hora de definir el modelo. Define un modelo que utilice una **LSTM** con **128 unidades internas**. Si bien el modelo puede definirse de una manera más compleja, para empezar debería bastar con una LSTM más una capa Dense con el *softmax* que predice el siguiente caracter a producir. Adam puede ser una buena elección de optimizador.\n",
        "\n",
        "Una vez el modelo esté definido, entrénalo un poco para asegurarte de que la loss es decreciente. No es necesario guardar la salida de este entrenamiento en el entregable final, ya que vamos a hacer el entrenamiento más informativo en el siguiente punto."
      ]
    },
    {
      "cell_type": "code",
      "execution_count": 12,
      "metadata": {
        "colab": {},
        "colab_type": "code",
        "id": "MSw2j0btYWZs"
      },
      "outputs": [],
      "source": [
        "## TU CÓDIGO AQUÍ\n",
        "vocab_size=len(chars)"
      ]
    },
    {
      "cell_type": "code",
      "execution_count": 13,
      "metadata": {
        "colab": {
          "base_uri": "https://localhost:8080/",
          "height": 235
        },
        "colab_type": "code",
        "id": "_mmUG1Jl9Sjl",
        "outputId": "a7cc5dcb-6712-45ae-9fa4-5071dd1df94c"
      },
      "outputs": [
        {
          "name": "stdout",
          "output_type": "stream",
          "text": [
            "Model: \"sequential\"\n",
            "_________________________________________________________________\n",
            " Layer (type)                Output Shape              Param #   \n",
            "=================================================================\n",
            " lstm (LSTM)                 (None, 128)               97280     \n",
            "                                                                 \n",
            " dense (Dense)               (None, 61)                7869      \n",
            "                                                                 \n",
            "=================================================================\n",
            "Total params: 105149 (410.74 KB)\n",
            "Trainable params: 105149 (410.74 KB)\n",
            "Non-trainable params: 0 (0.00 Byte)\n",
            "_________________________________________________________________\n",
            "None\n"
          ]
        }
      ],
      "source": [
        "model=Sequential()\n",
        "model.add(LSTM(128, input_shape=(SEQ_LENGTH,vocab_size)))\n",
        "model.add(Dense(vocab_size,activation='softmax'))\n",
        "print(model.summary())"
      ]
    },
    {
      "cell_type": "markdown",
      "metadata": {
        "colab_type": "text",
        "id": "uoNojeWJ_db6"
      },
      "source": [
        "**Training**"
      ]
    },
    {
      "cell_type": "code",
      "execution_count": 14,
      "metadata": {
        "colab": {},
        "colab_type": "code",
        "id": "-g8FrKeJ_cHP"
      },
      "outputs": [],
      "source": [
        "optimizer='adam'\n",
        "model.compile(loss='categorical_crossentropy',optimizer=optimizer,metrics=['accuracy'])\n"
      ]
    },
    {
      "cell_type": "code",
      "execution_count": 15,
      "metadata": {
        "colab": {
          "base_uri": "https://localhost:8080/",
          "height": 706
        },
        "colab_type": "code",
        "id": "ZaIa98tXAIYE",
        "outputId": "263e1bd4-a0a9-407c-d209-412b89fda251"
      },
      "outputs": [
        {
          "name": "stdout",
          "output_type": "stream",
          "text": [
            "Epoch 1/20\n",
            "3711/3711 [==============================] - 150s 40ms/step - loss: 2.2053 - accuracy: 0.3383 - val_loss: 1.9890 - val_accuracy: 0.3948\n",
            "Epoch 2/20\n",
            "3711/3711 [==============================] - 152s 41ms/step - loss: 1.9120 - accuracy: 0.4089 - val_loss: 1.8511 - val_accuracy: 0.4272\n",
            "Epoch 3/20\n",
            "3711/3711 [==============================] - 151s 41ms/step - loss: 1.7961 - accuracy: 0.4441 - val_loss: 1.7579 - val_accuracy: 0.4589\n",
            "Epoch 4/20\n",
            "3711/3711 [==============================] - 149s 40ms/step - loss: 1.7134 - accuracy: 0.4690 - val_loss: 1.6940 - val_accuracy: 0.4798\n",
            "Epoch 5/20\n",
            "3711/3711 [==============================] - 150s 40ms/step - loss: 1.6507 - accuracy: 0.4890 - val_loss: 1.6445 - val_accuracy: 0.4944\n",
            "Epoch 6/20\n",
            "3711/3711 [==============================] - 151s 41ms/step - loss: 1.6025 - accuracy: 0.5050 - val_loss: 1.6097 - val_accuracy: 0.5056\n",
            "Epoch 7/20\n",
            "3711/3711 [==============================] - 150s 40ms/step - loss: 1.5643 - accuracy: 0.5160 - val_loss: 1.5762 - val_accuracy: 0.5136\n",
            "Epoch 8/20\n",
            "3711/3711 [==============================] - 154s 42ms/step - loss: 1.5337 - accuracy: 0.5249 - val_loss: 1.5511 - val_accuracy: 0.5205\n",
            "Epoch 9/20\n",
            "3711/3711 [==============================] - 155s 42ms/step - loss: 1.5082 - accuracy: 0.5318 - val_loss: 1.5340 - val_accuracy: 0.5235\n",
            "Epoch 10/20\n",
            "3711/3711 [==============================] - 157s 42ms/step - loss: 1.4866 - accuracy: 0.5381 - val_loss: 1.5128 - val_accuracy: 0.5296\n",
            "Epoch 11/20\n",
            "3711/3711 [==============================] - 155s 42ms/step - loss: 1.4680 - accuracy: 0.5437 - val_loss: 1.4983 - val_accuracy: 0.5357\n",
            "Epoch 12/20\n",
            "3711/3711 [==============================] - 145s 39ms/step - loss: 1.4518 - accuracy: 0.5475 - val_loss: 1.4930 - val_accuracy: 0.5364\n",
            "Epoch 13/20\n",
            "3711/3711 [==============================] - 151s 41ms/step - loss: 1.4379 - accuracy: 0.5521 - val_loss: 1.4828 - val_accuracy: 0.5398\n",
            "Epoch 14/20\n",
            "3711/3711 [==============================] - 153s 41ms/step - loss: 1.4250 - accuracy: 0.5554 - val_loss: 1.4722 - val_accuracy: 0.5426\n",
            "Epoch 15/20\n",
            "3711/3711 [==============================] - 152s 41ms/step - loss: 1.4136 - accuracy: 0.5583 - val_loss: 1.4646 - val_accuracy: 0.5455\n",
            "Epoch 16/20\n",
            "3711/3711 [==============================] - 157s 42ms/step - loss: 1.4033 - accuracy: 0.5615 - val_loss: 1.4603 - val_accuracy: 0.5459\n",
            "Epoch 17/20\n",
            "3711/3711 [==============================] - 155s 42ms/step - loss: 1.3939 - accuracy: 0.5644 - val_loss: 1.4508 - val_accuracy: 0.5479\n",
            "Epoch 18/20\n",
            "3711/3711 [==============================] - 156s 42ms/step - loss: 1.3850 - accuracy: 0.5665 - val_loss: 1.4504 - val_accuracy: 0.5486\n",
            "Epoch 19/20\n",
            "3711/3711 [==============================] - 156s 42ms/step - loss: 1.3769 - accuracy: 0.5693 - val_loss: 1.4426 - val_accuracy: 0.5530\n",
            "Epoch 20/20\n",
            "3711/3711 [==============================] - 157s 42ms/step - loss: 1.3692 - accuracy: 0.5710 - val_loss: 1.4414 - val_accuracy: 0.5521\n"
          ]
        }
      ],
      "source": [
        "history=model.fit(X,y, validation_split=0.05, batch_size=128, epochs=20,shuffle=True).history"
      ]
    },
    {
      "cell_type": "code",
      "execution_count": 17,
      "metadata": {
        "colab": {},
        "colab_type": "code",
        "id": "V1JxPj9KVitq"
      },
      "outputs": [],
      "source": [
        "import joblib# Para salvar el modelo\n",
        "joblib.dump(model,'modelo_entrenado.pkl')\n",
        "model2=joblib.load('modelo_entrenado.pkl')\n"
      ]
    },
    {
      "cell_type": "code",
      "execution_count": 18,
      "metadata": {
        "colab": {},
        "colab_type": "code",
        "id": "kZtgaE2jZo8r"
      },
      "outputs": [
        {
          "ename": "ModuleNotFoundError",
          "evalue": "No module named 'google.colab'",
          "output_type": "error",
          "traceback": [
            "\u001b[1;31m---------------------------------------------------------------------------\u001b[0m",
            "\u001b[1;31mModuleNotFoundError\u001b[0m                       Traceback (most recent call last)",
            "\u001b[1;32md:\\Mi unidad\\Master FP IA y BD\\7RO\\clase\\15-11-2023\\quixote.ipynb Celda 31\u001b[0m line \u001b[0;36m1\n\u001b[1;32m----> <a href='vscode-notebook-cell:/d%3A/Mi%20unidad/Master%20FP%20IA%20y%20BD/7RO/clase/15-11-2023/quixote.ipynb#X42sZmlsZQ%3D%3D?line=0'>1</a>\u001b[0m \u001b[39mfrom\u001b[39;00m \u001b[39mgoogle\u001b[39;00m\u001b[39m.\u001b[39;00m\u001b[39mcolab\u001b[39;00m \u001b[39mimport\u001b[39;00m files\n\u001b[0;32m      <a href='vscode-notebook-cell:/d%3A/Mi%20unidad/Master%20FP%20IA%20y%20BD/7RO/clase/15-11-2023/quixote.ipynb#X42sZmlsZQ%3D%3D?line=1'>2</a>\u001b[0m files\u001b[39m.\u001b[39mdownload(\u001b[39m'\u001b[39m\u001b[39mmodelo_entrenado.pkl\u001b[39m\u001b[39m'\u001b[39m)\n",
            "\u001b[1;31mModuleNotFoundError\u001b[0m: No module named 'google.colab'"
          ]
        }
      ],
      "source": [
        "from google.colab import files\n",
        "files.download('modelo_entrenado.pkl')"
      ]
    },
    {
      "cell_type": "code",
      "execution_count": null,
      "metadata": {
        "colab": {},
        "colab_type": "code",
        "id": "VWIcWuiAWwvK"
      },
      "outputs": [],
      "source": [
        "#results=model2.evaluate(X,y)\n",
        "#print(results)"
      ]
    },
    {
      "cell_type": "markdown",
      "metadata": {
        "colab_type": "text",
        "id": "3yUFHS4kHkyY"
      },
      "source": [
        "Para ver cómo evoluciona nuestro modelo del lenguaje, vamos a generar texto según va entrenando. Para ello, vamos a programar una función que, utilizando el modelo en su estado actual, genere texto, con la idea de ver cómo se va generando texto al entrenar cada epoch.\n",
        "\n",
        "En el código de abajo podemos ver una función auxiliar para obtener valores de una distribución multinomial. Esta función se usará para muestrear el siguiente carácter a utilizar según las probabilidades de la salida de softmax (en vez de tomar directamente el valor con la máxima probabilidad, obtenemos un valor aleatorio según la distribución de probabilidad dada por softmax, de modo que nuestros resultados serán más diversos, pero seguirán teniendo \"sentido\" ya que el modelo tenderá a seleccionar valores con más probabilidad).\n",
        "\n"
      ]
    },
    {
      "cell_type": "code",
      "execution_count": 19,
      "metadata": {
        "colab": {},
        "colab_type": "code",
        "id": "LoGYpWOHd7Lr"
      },
      "outputs": [],
      "source": [
        "def sample(probs, temperature=1.0):\n",
        "    \"\"\"Nos da el índice del elemento a elegir según la distribución\n",
        "    de probabilidad dada por probs.\n",
        "    \n",
        "    Args:\n",
        "      probs es la salida dada por una capa softmax:\n",
        "        probs = model.predict(x_to_predict)[0]\n",
        "      \n",
        "      temperature es un parámetro que nos permite obtener mayor\n",
        "        \"diversidad\" a la hora de obtener resultados. \n",
        "        \n",
        "        temperature = 1 nos da la distribución normal de softmax\n",
        "        0 < temperature < 1 hace que el sampling sea más conservador,\n",
        "          de modo que sampleamos cosas de las que estamos más seguros\n",
        "        temperature > 1 hace que los samplings sean más atrevidos,\n",
        "          eligiendo en más ocasiones clases con baja probabilidad.\n",
        "          Con esto, tenemos mayor diversidad pero se cometen más\n",
        "          errores.\n",
        "    \"\"\"\n",
        "    # Cast a float64 por motivos numéricos\n",
        "    probs = np.asarray(probs).astype('float64')\n",
        "    \n",
        "    # Hacemos logaritmo de probabilidades y aplicamos reducción\n",
        "    # por temperatura.\n",
        "    probs = np.log(probs) / temperature\n",
        "    \n",
        "    # Volvemos a aplicar exponencial y normalizamos de nuevo\n",
        "    exp_probs = np.exp(probs)\n",
        "    probs = exp_probs / np.sum(exp_probs)\n",
        "    \n",
        "    # Hacemos el sampling dadas las nuevas probabilidades\n",
        "    # de salida (ver doc. de np.random.multinomial)\n",
        "    samples = np.random.multinomial(1, probs, 1)\n",
        "    return np.argmax(samples)\n"
      ]
    },
    {
      "cell_type": "code",
      "execution_count": null,
      "metadata": {
        "colab": {},
        "colab_type": "code",
        "id": "IRGiAUJbdGQB"
      },
      "outputs": [],
      "source": []
    },
    {
      "cell_type": "markdown",
      "metadata": {
        "colab_type": "text",
        "id": "3fejfZldd4ou"
      },
      "source": [
        "Utilizando la función anterior y el modelo entrenado, vamos a añadir un callback a nuestro modelo para que, según vaya entrenando, veamos los valores que resultan de generar textos con distintas temperaturas al acabar cada epoch.\n",
        "\n",
        "Para ello, abajo tenéis disponible el callback *on_epoch_end*. Esta función elige una secuencia de texto al azar en el texto disponible en la variable\n",
        "text y genera textos de longitud *GENERATED_TEXT_LENGTH* según las temperaturas en *TEMPERATURES_TO_TRY*, utilizando para ello la función *generate_text*.\n",
        "\n",
        "Completa la función *generate_text* de modo que utilicemos el modelo y la función sample para generar texto.\n",
        "\n",
        "NOTA: Cuando hagas model.predict, es aconsejable usar verbose=0 como argumento para evitar que la función imprima valores de salida."
      ]
    },
    {
      "cell_type": "markdown",
      "metadata": {
        "colab_type": "text",
        "id": "y-yNHEEMzsiu"
      },
      "source": [
        "***El siguiente código predice el siguiente caracter a partir de una secuencia aleatoria. \n",
        "Primero, seleccionamos una secuencia de la longitud fijada SEQ_LENGTH al azar del texto del Quijote, codificamos la secuencia según la representación one-hot y mostramos el caracter que predice el modelo con mayor probabilidad.***\n"
      ]
    },
    {
      "cell_type": "code",
      "execution_count": 30,
      "metadata": {
        "colab": {
          "base_uri": "https://localhost:8080/",
          "height": 67
        },
        "colab_type": "code",
        "id": "Vf0wZO-NqYYl",
        "outputId": "363bef14-76f8-4276-f7dc-2171818e5e81"
      },
      "outputs": [
        {
          "name": "stdout",
          "output_type": "stream",
          "text": [
            "Seed: y qué bálsamo es ése? -dijo sa\n",
            "\n",
            "n"
          ]
        }
      ],
      "source": [
        "#CÓDIGO Ejemplo: Predice el siguiente caracter de una secuencia aleatoria\n",
        "# Primero, seleccionamos una secuencia al azar para empezar a predecir\n",
        "# a partir de ella\n",
        "start_pos = random.randint(0, len(text) - SEQ_LENGTH - 1)\n",
        "seed_text = text[start_pos:start_pos + SEQ_LENGTH]\n",
        "print(\"Seed: {}\".format(seed_text))\n",
        "print()\n",
        "#----------------------------------\n",
        "# Aquí representomos la secuencia seed_text como codificación one-hot\n",
        "X_pred = np.zeros((1, SEQ_LENGTH, NUM_CHARS))\n",
        "# Construimos X_pred a partir de seed_text\n",
        "for t,char in enumerate(seed_text): # t recorre la longitud de la secuencia y char cada caracter de la secuencia \n",
        "  X_pred[0,t,char_indices[char]]=1\n",
        "#-------------------------------------\n",
        "#PREDICCIÓN\n",
        "prediccion=model.predict(X_pred, batch_size=32, verbose=0)\n",
        "print(indices_char[np.argmax(prediccion)],end='') # Muestra el caracter más probable para la sequencia 100\n",
        "##################################################333\n"
      ]
    },
    {
      "cell_type": "markdown",
      "metadata": {
        "colab_type": "text",
        "id": "wwouquxxwMtj"
      },
      "source": [
        "***Visto el código anterior podemos modificar seed_text eliminando el primer caracter y añadiendo el caracter predicho al final, de tal forma que podemos  repetir el código anterior  generando un nuevo caracter y así sucesivamente se generará la cadena más probable (al haber usado argmax). El código puede verse a continuación***"
      ]
    },
    {
      "cell_type": "code",
      "execution_count": 31,
      "metadata": {
        "colab": {
          "base_uri": "https://localhost:8080/",
          "height": 67
        },
        "colab_type": "code",
        "id": "G7MjYoOyv00_",
        "outputId": "7a668bbe-3a14-4932-bc57-f3e967172fc9"
      },
      "outputs": [
        {
          "name": "stdout",
          "output_type": "stream",
          "text": [
            "y qué bálsamo es ése? -dijo sa\n",
            " qué bálsamo es ése? -dijo s\n",
            " qué bálsamo es ése? -dijo sn\n"
          ]
        }
      ],
      "source": [
        "print(seed_text)\n",
        "seed_text=seed_text[1:SEQ_LENGTH-1]\n",
        "print(seed_text)\n",
        "seed_text+=indices_char[np.argmax(prediccion)]\n",
        "print(seed_text)"
      ]
    },
    {
      "cell_type": "markdown",
      "metadata": {
        "colab_type": "text",
        "id": "zxJj03Rd1kEH"
      },
      "source": [
        "***Ahora implementamos una función que genere la secuencia de texto más probable a partir de una secuencia inicial.***"
      ]
    },
    {
      "cell_type": "code",
      "execution_count": 32,
      "metadata": {
        "colab": {},
        "colab_type": "code",
        "id": "H5-KnD3d1_Li"
      },
      "outputs": [],
      "source": [
        "def genera_texto(texto, model, length):\n",
        "  X_pred = np.zeros((1, SEQ_LENGTH, NUM_CHARS)) # Declaramos X_pred\n",
        "  for k in range(length): # Genera el número de caracteres fijados en el parámetro length\n",
        "    #Inicializamos X_pred a cero\n",
        "    for a in range(SEQ_LENGTH):\n",
        "      for b in range(NUM_CHARS):\n",
        "         X_pred[0,a,b]=0\n",
        "    # Aquí representomos la secuencia seed_text como codificación one-hot\n",
        "    # Construimos X_pred a partir de seed_text \n",
        "    for t,char in enumerate(texto): # t recorre la longitud de la secuencia y char cada caracter de la secuencia \n",
        "      X_pred[0,t,char_indices[char]]=1\n",
        "    #-------------------------------------\n",
        "    #PREDICCIÓN\n",
        "    prediccion=model.predict(X_pred, batch_size=32, verbose=0)\n",
        "    print(indices_char[np.argmax(prediccion)],end='') # Muestra el caracter más probable para la sequencia dada\n",
        "    #Actualizamos la cadena de entrada\n",
        "    texto=texto[1:SEQ_LENGTH]\n",
        "    texto+=indices_char[np.argmax(prediccion)]\n",
        "    #texto+=indices_char[sample(prediccion[0],1)]\n",
        "    #print(texto)\n",
        "\n"
      ]
    },
    {
      "cell_type": "markdown",
      "metadata": {
        "colab_type": "text",
        "id": "7IurBz2K_n8S"
      },
      "source": [
        "***Probamos el modelo para que prediga los siguientes 120 caracteres dada una secuencia inicial aleatoria:***"
      ]
    },
    {
      "cell_type": "code",
      "execution_count": 34,
      "metadata": {
        "colab": {
          "base_uri": "https://localhost:8080/",
          "height": 101
        },
        "colab_type": "code",
        "id": "oELzByft3pYN",
        "outputId": "933dbf11-6f7d-4afc-fb93-e8a776e60884"
      },
      "outputs": [
        {
          "name": "stdout",
          "output_type": "stream",
          "text": [
            "Seed: so. encantada viene con el\n",
            "gal\n",
            "Texto generado:\n",
            "lo de la mano de la caballería a la mano de la caballería a la mano de la caballería a la mano de la caballería a la man"
          ]
        }
      ],
      "source": [
        "# Primero, seleccionamos una secuencia al azar para empezar a predecir\n",
        "# a partir de ella\n",
        "start_pos = random.randint(0, len(text) - SEQ_LENGTH - 1)\n",
        "seed_text = text[start_pos:start_pos + SEQ_LENGTH]\n",
        "print('Seed:',seed_text)\n",
        "print('Texto generado:')\n",
        "genera_texto(seed_text, model2, 120)"
      ]
    },
    {
      "cell_type": "code",
      "execution_count": 35,
      "metadata": {
        "colab": {},
        "colab_type": "code",
        "id": "fOBHI772HvYp"
      },
      "outputs": [],
      "source": [
        "TEMPERATURES_TO_TRY = [0.2, 0.5, 1.0, 1.2]\n",
        "GENERATED_TEXT_LENGTH = 300\n",
        "\n",
        "def generate_text(seed_text, model, length, temperature=1):\n",
        "    \"\"\"Genera una secuencia de texto a partir de seed_text utilizando model.\n",
        "    \n",
        "    La secuencia tiene longitud length y el sampling se hace con la temperature\n",
        "    definida.\n",
        "    \"\"\"\n",
        "    \n",
        "    # Aquí guardaremos nuestro texto generado, que incluirá el\n",
        "    # texto origen\n",
        "    generated = seed_text\n",
        "    \n",
        "    # Utilizar el modelo en un bucle de manera que generemos\n",
        "    # carácter a carácter. Habrá que construir los valores de\n",
        "    # X_pred de manera similar a como hemos hecho arriba, salvo que\n",
        "    # aquí sólo se necesita una oración\n",
        "    # Nótese que el x que utilicemos tiene que irse actualizando con\n",
        "    # los caracteres que se van generando. La secuencia de entrada al\n",
        "    # modelo tiene que ser una secuencia de tamaño SEQ_LENGTH que\n",
        "    # incluya el último caracter predicho.\n",
        " \n",
        "    ### TU CÓDIGO AQUÍ\n",
        "    ######################################################################\n",
        "    texto=seed_text\n",
        "    X_pred = np.zeros((1, SEQ_LENGTH, NUM_CHARS)) # Declaramos X_pred\n",
        "    for k in range(length): # Genera el número de caracteres fijados en el parámetro length\n",
        "      #Inicializamos X_pred a cero\n",
        "      for a in range(SEQ_LENGTH):\n",
        "        for b in range(NUM_CHARS):\n",
        "          X_pred[0,a,b]=0\n",
        "      # Aquí representomos la secuencia seed_text como codificación one-hot\n",
        "      # Construimos X_pred a partir de seed_text \n",
        "      for t,char in enumerate(texto): # t recorre la longitud de la secuencia y char cada caracter de la secuencia \n",
        "        X_pred[0,t,char_indices[char]]=1\n",
        "      #-------------------------------------\n",
        "      #PREDICCIÓN\n",
        "      prediccion=model.predict(X_pred, batch_size=32, verbose=0)\n",
        "      # print(indices_char[np.argmax(prediccion)],end='') # Muestra el caracter más probable para la sequencia dada\n",
        "      #Actualizamos la cadena de entrada\n",
        "      texto=texto[1:SEQ_LENGTH]\n",
        "      #texto+=indices_char[np.argmax(prediccion)]\n",
        "      texto+=indices_char[sample(prediccion[0],temperature)]\n",
        "      # generated+=indices_char[np.argmax(prediccion)]  \n",
        "      generated+=indices_char[sample(prediccion[0],temperature)]\n",
        "    ######################################################################\n",
        "    ### FIN DE TU CÓDIGO\n",
        "    return generated"
      ]
    },
    {
      "cell_type": "code",
      "execution_count": 36,
      "metadata": {
        "colab": {
          "base_uri": "https://localhost:8080/",
          "height": 104
        },
        "colab_type": "code",
        "id": "0a-0xfnmH68P",
        "outputId": "174eda02-1d01-4f99-dfad-a0254571ed03"
      },
      "outputs": [
        {
          "name": "stdout",
          "output_type": "stream",
          "text": [
            "Seed: ingos, consumían las tres\n",
            "part\n",
            "Texto generado:\n"
          ]
        },
        {
          "data": {
            "text/plain": [
              "'ingos, consumían las tres\\npartes de los des cual se le había de sacer es dura de la mano de la cano de la caballería a lon quijote de la cano de la maballería d da mano de la cano de la canoha, y dl curl sn el mundo d deslos delcubriese ae la mano de la mancha, q el cual se labía de ler cuballero a su  cosas de los del sual en e'"
            ]
          },
          "execution_count": 36,
          "metadata": {},
          "output_type": "execute_result"
        }
      ],
      "source": [
        "# Primero, seleccionamos una secuencia al azar para empezar a predecir\n",
        "# a partir de ella\n",
        "start_pos = random.randint(0, len(text) - SEQ_LENGTH - 1)\n",
        "seed_text = text[start_pos:start_pos + SEQ_LENGTH]\n",
        "print('Seed:',seed_text)\n",
        "print('Texto generado:')\n",
        "generate_text(seed_text, model2, GENERATED_TEXT_LENGTH,temperature=0.1)"
      ]
    },
    {
      "cell_type": "code",
      "execution_count": 37,
      "metadata": {
        "colab": {},
        "colab_type": "code",
        "id": "xOEZvnBXkODd"
      },
      "outputs": [],
      "source": [
        "\n",
        "\n",
        "\n",
        "def on_epoch_end(epoch, logs):\n",
        "  print(\"\\n\\n\\n\")\n",
        "  \n",
        "  # Primero, seleccionamos una secuencia al azar para empezar a predecir\n",
        "  # a partir de ella\n",
        "  start_pos = random.randint(0, len(text) - SEQ_LENGTH - 1)\n",
        "  seed_text = text[start_pos:start_pos + SEQ_LENGTH]\n",
        "  for temperature in TEMPERATURES_TO_TRY:\n",
        "    print(\"------> Epoch: {} - Generando texto con temperature {}\".format(\n",
        "        epoch + 1, temperature))\n",
        "    \n",
        "    generated_text = generate_text(seed_text, model2, \n",
        "                                   GENERATED_TEXT_LENGTH, temperature)\n",
        "    print(\"Seed: {}\".format(seed_text))\n",
        "    print(\"Texto generado: {}\".format(generated_text))\n",
        "    print()\n",
        "\n",
        "\n",
        "generation_callback = LambdaCallback(on_epoch_end=on_epoch_end)  "
      ]
    },
    {
      "cell_type": "code",
      "execution_count": 38,
      "metadata": {
        "colab": {
          "base_uri": "https://localhost:8080/",
          "height": 1179
        },
        "colab_type": "code",
        "id": "0OYqGs8BOFTF",
        "outputId": "e88e0c91-1294-4659-e29a-ed3c12f84df1"
      },
      "outputs": [
        {
          "name": "stdout",
          "output_type": "stream",
          "text": [
            "\n",
            "\n",
            "\n",
            "\n",
            "------> Epoch: 1 - Generando texto con temperature 0.2\n",
            "Seed: era haber oído lo que vuesa me\n",
            "Texto generado: era haber oído lo que vuesa merced qe ls lue ea herdad de la mancha, qi no es la cabellería de la manc de la mancha, y dl caaa de la manoha, yue es la cuballería a la vasma señora de la mancha, y q la mano ye la mancha, y ardosesto se lo masoria de la manoha, q de la mrostera due ls caballero de la mincha, por lo manma señora de\n",
            "\n",
            "------> Epoch: 1 - Generando texto con temperature 0.5\n",
            "Seed: era haber oído lo que vuesa me\n",
            "Texto generado: era haber oído lo que vuesa merced  yeñor,con quijote, pora qoncido su deego aue vo ps ca pltelaa,c ce lo paeda ae la pincha. yue ne huelta de sa mañara due en pubne de len quijote  aono lon quijote.de la manc  que es la corta ya ía denerse helló de su mmo p tara cue le lntá pieto yn ea  abes pn la vrlabra ye las riceres le hija\n",
            "\n",
            "------> Epoch: 1 - Generando texto con temperature 1.0\n",
            "Seed: era haber oído lo que vuesa me\n",
            "Texto generado: era haber oído lo que vuesa merceb ln ca ed o, \n",
            "-bfr dico.eq  foeve !ro tancho,yi auleadle,asuedtosqrijo  \n",
            "n modo.sur aocto;deñcudta\n",
            "  c,squé as toñesí a todo  éecddíndaslsili,yl\n",
            "lauoillo mn\n",
            "uep doro so \n",
            "tvresa cncea  senhs  soagardenea cala,de  jazones desleeieo  te ia!la dabía ren aes  mc roen dabirnador  yue tes oe go fusta m\n",
            "\n",
            "------> Epoch: 1 - Generando texto con temperature 1.2\n",
            "Seed: era haber oído lo que vuesa me\n",
            "Texto generado: era haber oído lo que vuesa mercerd due eu le ielt bn carasharóimdirurte  nica:de ante ceñ ir  qeluus le aarmosori,heeata  d ae\n",
            "oramvueepl cezedó poro te nrecresa\n",
            ",qn cí sunj\n",
            "hora eue ó i voneedos hocaébs,audf aarilo, s\n",
            " doss  sue ta piestra mees   qorque aa hstgabána bi punltr. p,pues pur ds mos lest y lalad,o  mgato mo vi\n",
            "  ye\n",
            "\n",
            "\n",
            "\n",
            "\n",
            "\n",
            "------> Epoch: 2 - Generando texto con temperature 0.2\n",
            "Seed: y honrada,\n",
            "se quiere meter en \n",
            "Texto generado: y honrada,\n",
            "se quiere meter en ll mundo de los pechos ye las cosas de los comas de la sano de la me la manoha, yi lodíía eer que sabía de ser eue ee dijo:\n",
            "\n",
            "-no le dioo:\n",
            "\n",
            "-no henía antlsta ceñor don quijote  q q los dosos de lasque don esto se le dijo:\n",
            "\n",
            "-no ss esto de le dcga se le dijo:\n",
            "\n",
            "-no es lluellslgcual todo lo que sn el a d\n",
            "\n",
            "------> Epoch: 2 - Generando texto con temperature 0.5\n",
            "Seed: y honrada,\n",
            "se quiere meter en \n",
            "Texto generado: y honrada,\n",
            "se quiere meter en el memocido de la  cencedes, pl eslmundo e cn re las ae lur llguno, qesluestra merced denmey a ímismo,dn el rundo se aabíandecselpa denoster an de lo mrrte de lassrrte de los drnsonas l dnoa rese ica  de lusaeñor dolcquellos pue lqí ls esta so ee ocnente,pe lo secinante, yue  asdantea el eos cue dec\n",
            "\n",
            "------> Epoch: 2 - Generando texto con temperature 1.0\n",
            "Seed: y honrada,\n",
            "se quiere meter en \n",
            "Texto generado: y honrada,\n",
            "se quiere meter en la geztd\n",
            "oda; deppatova, q deei\n",
            "eer mn rdecádond  \n",
            "»en esee yebosndo qdmeeed rye luien delppos vejestiriaimmeblbaca -or qempos s! a,pue lor fs muguton  veeca alcanina;cejesen id diblucnr eoente e  muerg aoen sonron qo uclassntia aue\n",
            "y uella,uasír cás nirveesto\n",
            "leclcebieidnto qrecanees  desma e c und\n",
            "\n",
            "------> Epoch: 2 - Generando texto con temperature 1.2\n",
            "Seed: y honrada,\n",
            "se quiere meter en \n",
            "Texto generado: y honrada,\n",
            "se quiere meter en uujaic  cemáoo ginos\n",
            "peelepe írinúeirie  e,pil\n",
            "mobiando\n",
            "pseaa  qigyl pleáse eon i, r-qnóg, ss\n",
            "jn\n",
            "loat monitslr aocia.yllincho\n",
            "ti eg punn  qrm osttue\n",
            "uamdl uasa,ame\n",
            "mulvn.tue nod lom ilntes.los soesae\n",
            "marluera -  lun euajanendt,an entadente,yiy hemtanels qanascrses\n",
            "eb duiemed yofau s,or  hib ine pue \n",
            "\n"
          ]
        }
      ],
      "source": [
        "history=model2.fit(X,y, validation_split=0.05, batch_size=128, epochs=2,shuffle=True,verbose=0,callbacks=[generation_callback]).history"
      ]
    },
    {
      "cell_type": "markdown",
      "metadata": {
        "colab_type": "text",
        "id": "p9kELJuMQye2"
      },
      "source": [
        "***El modelo va mejorando época a época. Se había entrenado con anterioridad 20 épocas y se observa en cada una el descenso del loss y el aumento del accuracy.***\n",
        " Comentar las diferencias apreciadas al utilizar diferentes valores de temperatura.\n",
        "***Observamos como al aumentar el parámetro temperatura el texto predicho es menos probable haciéndose ilegible.***"
      ]
    },
    {
      "cell_type": "markdown",
      "metadata": {
        "colab_type": "text",
        "id": "BSMYZ2JdrSJg"
      },
      "source": [
        "Entrena ahora tu modelo. No te olvides de añadir *generation_callback* a la lista de callbacks utilizados en fit(). Ya que las métricas de clasificación no son tan críticas aquí (no nos importa tanto acertar el carácter exacto, sino obtener una distribución de probabilidad adecuada), no es necesario monitorizar la accuracy ni usar validation data, si bien puedes añadirlos para asegurarte de que todo está en orden.\n"
      ]
    },
    {
      "cell_type": "markdown",
      "metadata": {
        "colab_type": "text",
        "id": "pBbmz9DMhVhc"
      },
      "source": [
        "## Entregable\n",
        "\n",
        "Completa los apartados anteriores para entrenar modelos del lenguaje que sean capaces de generar texto con cierto sentido. Comentar los resultados obtenidos y cómo el modelo va mejorando época a época. Comentar las diferencias apreciadas al utilizar diferentes valores de temperatura. Entregar al menos la salida de un entrenamiento completo con los textos generados época a época.\n",
        "\n",
        "El objetivo no es conseguir generar pasajes literarios con coherencia, sino obtener lenguaje que se asemeje en cierta manera a lo visto en el texto original y donde las palabras sean reconocibles como construcciones en castellano. Como ejemplo de lo que se puede conseguir, este es el resultado de generar texto después de 10 epochs y con temperature 0.2:\n",
        "\n",
        "\n",
        "```\n",
        "-----> Epoch: 10 - Generando texto con temperature 0.2\n",
        "Seed: o le cautivaron y rindieron el\n",
        "Texto generado: o le cautivaron y rindieron el caballero de la caballería de la mano de la caballería del cual se le dijo:\n",
        "\n",
        "-¿quién es el verdad de la caballería de la caballería de la caballería de la caballería de la caballería, y me ha de habían de la mano que el caballero de la mano de la caballería. y que no se le habían de la mano de la c\n",
        "\n",
        "```\n",
        "\n",
        "Asimismo, se proponen los siguientes aspectos opcionales para conseguir nota extra:\n",
        "\n",
        "*   Experimentar con los textos de teatro en verso de Calderón de la Barca (¿es capaz el modelo de aprender las estructuras del teatro en verso?) o con alguno de los otros textos disponibles. También se puede probar con textos de vuestra elección.\n",
        "*   Experimentar con distintos valores de SEQ_LENGTH.\n",
        "*   Experimentar con los hiperparámetros del modelo o probar otro tipo de modelos como GRUs o *stacked* RNNs (RNNs apiladas).\n",
        "*   Experimentar utilizando embeddings en vez de representaciones one-hot.\n",
        "*   (Difícil) Entrenar un modelo secuencia a secuencia en vez de secuencia a carácter.\n",
        "\n",
        "\n"
      ]
    }
  ],
  "metadata": {
    "accelerator": "GPU",
    "colab": {
      "collapsed_sections": [],
      "name": "Copia de Laboratorio 2.ipynb",
      "provenance": []
    },
    "kernelspec": {
      "display_name": "Python 3",
      "name": "python3"
    },
    "language_info": {
      "codemirror_mode": {
        "name": "ipython",
        "version": 3
      },
      "file_extension": ".py",
      "mimetype": "text/x-python",
      "name": "python",
      "nbconvert_exporter": "python",
      "pygments_lexer": "ipython3",
      "version": "3.11.5"
    }
  },
  "nbformat": 4,
  "nbformat_minor": 0
}
