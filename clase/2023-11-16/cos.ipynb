{
 "cells": [
  {
   "cell_type": "code",
   "execution_count": 11,
   "metadata": {},
   "outputs": [
    {
     "name": "stdout",
     "output_type": "stream",
     "text": [
      "Similitud del coseno:: 0.7347741546295061\n"
     ]
    }
   ],
   "source": [
    "import numpy as np\n",
    "from sklearn.metrics.pairwise import cosine_similarity\n",
    "\n",
    "# Generar dos vectores aleatorios de 100 elementos\n",
    "vector1 = np.random.rand(100)\n",
    "vector2 = np.random.rand(100)\n",
    "\n",
    "similarity = cosine_similarity(vector1.reshape(1,-1), vector2.reshape(1,-1))\n",
    "\n",
    "print(f\"Similitud del coseno:: {similarity[0][0]}\")"
   ]
  },
  {
   "cell_type": "code",
   "execution_count": 12,
   "metadata": {},
   "outputs": [
    {
     "name": "stdout",
     "output_type": "stream",
     "text": [
      "Similitud del coseno:: 0.734774154629506\n"
     ]
    }
   ],
   "source": [
    "# Calcular el producto punto entre los vectores\n",
    "dot_product = sum(x * y for x, y in zip(vector1, vector2))\n",
    "\n",
    "# Calcular las normas de los vectores\n",
    "norm_vector1 = (sum(x ** 2 for x in vector1))**0.5\n",
    "norm_vector2 = (sum(y ** 2 for y in vector2))**0.5\n",
    "\n",
    "# Calcular la similitud del coseno\n",
    "similarity = dot_product / (norm_vector1 * norm_vector2)\n",
    "print(f\"Similitud del coseno:: {similarity}\")"
   ]
  }
 ],
 "metadata": {
  "kernelspec": {
   "display_name": "base",
   "language": "python",
   "name": "python3"
  },
  "language_info": {
   "codemirror_mode": {
    "name": "ipython",
    "version": 3
   },
   "file_extension": ".py",
   "mimetype": "text/x-python",
   "name": "python",
   "nbconvert_exporter": "python",
   "pygments_lexer": "ipython3",
   "version": "3.11.5"
  }
 },
 "nbformat": 4,
 "nbformat_minor": 2
}
