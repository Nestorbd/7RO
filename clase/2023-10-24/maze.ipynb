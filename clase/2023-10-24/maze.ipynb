{
 "cells": [
  {
   "cell_type": "code",
   "execution_count": 1,
   "metadata": {
    "tags": [
     "assistant"
    ]
   },
   "outputs": [
    {
     "data": {
      "text/plain": [
       "array([[1., 1., 1., 1., 1., 1., 1., 1., 1., 1.],\n",
       "       [1., 2., 1., 1., 1., 0., 0., 1., 0., 1.],\n",
       "       [1., 0., 0., 0., 0., 0., 1., 1., 0., 1.],\n",
       "       [1., 0., 1., 0., 1., 0., 0., 1., 0., 1.],\n",
       "       [1., 0., 1., 0., 0., 1., 0., 0., 0., 1.],\n",
       "       [1., 1., 0., 1., 1., 0., 0., 1., 0., 1.],\n",
       "       [1., 0., 0., 0., 0., 1., 1., 0., 0., 1.],\n",
       "       [1., 0., 1., 0., 1., 0., 0., 0., 0., 1.],\n",
       "       [1., 0., 1., 0., 1., 0., 0., 0., 3., 1.],\n",
       "       [1., 1., 1., 1., 1., 1., 1., 1., 1., 1.]])"
      ]
     },
     "execution_count": 1,
     "metadata": {},
     "output_type": "execute_result"
    }
   ],
   "source": [
    "\n",
    "import matplotlib.pyplot as plt\n",
    "import numpy as np\n",
    "\n",
    "maze = np.zeros([10,10])\n",
    "maze[0, :] = 1  # Rellenar la primera fila con unos\n",
    "maze[-1, :] = 1  # Rellenar la última fila con unos\n",
    "maze[:, 0] = 1  # Rellenar la primera columna con unos\n",
    "maze[:, -1] = 1\n",
    "\n",
    "# Marcamos el inicio y el final\n",
    "maze[8, 8] = 3\n",
    "maze[1, 1] = 2\n",
    "\n",
    "direcciones = [(0, 1), (1, 0), (0, -1), (-1, 0)]  # Derecha, Abajo, Izquierda, Arriba\n",
    "\n",
    "# Rellenamos el laberinto con obstáculos (1) de manera aleatoria\n",
    "for i in range(1, 10-1):\n",
    "    for j in range(1, 10-1):\n",
    "        if (i, j) != (8,8) and (i, j) != (1,1):\n",
    "            maze[i, j] = np.random.choice([0, 1], p=[0.7, 0.3])\n",
    "\n",
    "maze"
   ]
  },
  {
   "cell_type": "code",
   "execution_count": 2,
   "metadata": {
    "notebookRunGroups": {
     "groupValue": "2"
    },
    "tags": [
     "assistant"
    ]
   },
   "outputs": [
    {
     "data": {
      "image/png": "[encoded data removed]",
      "text/plain": [
       "<Figure size 640x480 with 2 Axes>"
      ]
     },
     "metadata": {},
     "output_type": "display_data"
    }
   ],
   "source": [
    "def visualize(x):\n",
    "    plt.figure()\n",
    "    plt.imshow(x)\n",
    "    plt.colorbar()\n",
    "    plt.grid(False)\n",
    "    plt.show()\n",
    "\n",
    "visualize(maze)"
   ]
  }
 ],
 "metadata": {
  "kernelspec": {
   "display_name": "base",
   "language": "python",
   "name": "python3"
  },
  "language_info": {
   "codemirror_mode": {
    "name": "ipython",
    "version": 3
   },
   "file_extension": ".py",
   "mimetype": "text/x-python",
   "name": "python",
   "nbconvert_exporter": "python",
   "pygments_lexer": "ipython3",
   "version": "3.11.5"
  }
 },
 "model": "gpt-3.5-turbo-16k-0613",
 "nbformat": 4,
 "nbformat_minor": 2,
 "temperature": 1
}
