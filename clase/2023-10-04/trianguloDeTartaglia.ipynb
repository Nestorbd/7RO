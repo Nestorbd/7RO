{
 "cells": [
  {
   "cell_type": "code",
   "execution_count": 1,
   "metadata": {},
   "outputs": [
    {
     "name": "stdout",
     "output_type": "stream",
     "text": [
      "      1 \n",
      "     1 1 \n",
      "    1 2 1 \n",
      "   1 3 3 1 \n",
      "  1 4 6 4 1 \n",
      " 1 5 10 10 5 1 \n"
     ]
    }
   ],
   "source": [
    "def factorial(num):\n",
    "    if num == 0:\n",
    "        return 1\n",
    "    else:\n",
    "        return num * factorial(num-1)\n",
    "\n",
    "def combinacion(m, n):\n",
    "    if(m==n or n==0):\n",
    "        return 1\n",
    "    if n==(m-1):\n",
    "        return m\n",
    "    else:\n",
    "        return combinacion(m-1,n)+combinacion(m-1,n-1)\n",
    "\n",
    "def imprimir_triangulo_pascal(n):\n",
    "    for i in range(n):\n",
    "        # Agregando espacios al inicio de cada fila\n",
    "        # para centrar los números en el triángulo\n",
    "        print(\" \" * (n - i), end=\"\")\n",
    "\n",
    "        for j in range(i+1):\n",
    "            print(combinacion(i, j), end=\" \")\n",
    "        print()  # para pasar a la siguiente línea\n",
    "\n",
    "# Si quieres imprimir 10 filas del triángulo de Pascal, por ejemplo:\n",
    "imprimir_triangulo_pascal(6)"
   ]
  }
 ],
 "metadata": {
  "kernelspec": {
   "display_name": "base",
   "language": "python",
   "name": "python3"
  },
  "language_info": {
   "codemirror_mode": {
    "name": "ipython",
    "version": 3
   },
   "file_extension": ".py",
   "mimetype": "text/x-python",
   "name": "python",
   "nbconvert_exporter": "python",
   "pygments_lexer": "ipython3",
   "version": "3.11.5"
  },
  "orig_nbformat": 4
 },
 "nbformat": 4,
 "nbformat_minor": 2
}
