{
 "cells": [
  {
   "cell_type": "markdown",
   "metadata": {},
   "source": [
    "$ x = \\displaystyle\\frac{{ - b \\pm \\sqrt {b^2 - 4ac} }}{2a} $"
   ]
  },
  {
   "cell_type": "code",
   "execution_count": null,
   "metadata": {},
   "outputs": [],
   "source": [
    "print(\"a\")\n",
    "a=input()"
   ]
  },
  {
   "cell_type": "code",
   "execution_count": 1,
   "metadata": {},
   "outputs": [
    {
     "name": "stdout",
     "output_type": "stream",
     "text": [
      "4.0\n",
      "2.9999999999999973\n"
     ]
    }
   ],
   "source": [
    "D=47\n",
    "d=11\n",
    "decimal=D/d-int(D/d)\n",
    "c=D/d-decimal\n",
    "print(c)\n",
    "r=decimal*d\n",
    "print(r)"
   ]
  },
  {
   "cell_type": "code",
   "execution_count": 2,
   "metadata": {},
   "outputs": [
    {
     "name": "stdout",
     "output_type": "stream",
     "text": [
      "<class 'float'>\n"
     ]
    }
   ],
   "source": [
    "print(type(r))"
   ]
  },
  {
   "cell_type": "code",
   "execution_count": 2,
   "metadata": {},
   "outputs": [
    {
     "name": "stdout",
     "output_type": "stream",
     "text": [
      "n un lugar de la manchaE\n",
      " un lugar de la manchaEn\n",
      "un lugar de la manchaEn \n",
      "n lugar de la manchaEn u\n",
      " lugar de la manchaEn un\n",
      "lugar de la manchaEn un \n",
      "ugar de la manchaEn un l\n",
      "gar de la manchaEn un lu\n",
      "ar de la manchaEn un lug\n",
      "r de la manchaEn un luga\n",
      " de la manchaEn un lugar\n",
      "de la manchaEn un lugar \n",
      "e la manchaEn un lugar d\n",
      " la manchaEn un lugar de\n",
      "la manchaEn un lugar de \n",
      "a manchaEn un lugar de l\n",
      " manchaEn un lugar de la\n",
      "manchaEn un lugar de la \n",
      "anchaEn un lugar de la m\n",
      "nchaEn un lugar de la ma\n",
      "chaEn un lugar de la man\n",
      "haEn un lugar de la manc\n",
      "aEn un lugar de la manch\n",
      "En un lugar de la mancha\n"
     ]
    }
   ],
   "source": [
    "cadena=\"En un lugar de la mancha\"\n",
    "for t in range(len(cadena)):\n",
    "    cadena=cadena[1:]+cadena[0]\n",
    "    print(cadena)"
   ]
  }
 ],
 "metadata": {
  "kernelspec": {
   "display_name": "base",
   "language": "python",
   "name": "python3"
  },
  "language_info": {
   "codemirror_mode": {
    "name": "ipython",
    "version": 3
   },
   "file_extension": ".py",
   "mimetype": "text/x-python",
   "name": "python",
   "nbconvert_exporter": "python",
   "pygments_lexer": "ipython3",
   "version": "3.11.5"
  },
  "orig_nbformat": 4
 },
 "nbformat": 4,
 "nbformat_minor": 2
}
