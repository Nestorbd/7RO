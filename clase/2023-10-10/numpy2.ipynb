{
 "cells": [
  {
   "cell_type": "code",
   "execution_count": 1,
   "metadata": {},
   "outputs": [
    {
     "name": "stdout",
     "output_type": "stream",
     "text": [
      "1.24.3\n"
     ]
    }
   ],
   "source": [
    "import numpy as np\n",
    "print(np.__version__)"
   ]
  },
  {
   "cell_type": "code",
   "execution_count": 7,
   "metadata": {},
   "outputs": [
    {
     "name": "stdout",
     "output_type": "stream",
     "text": [
      "[[0 1]\n",
      " [2 3]\n",
      " [4 5]\n",
      " [6 7]\n",
      " [8 9]]\n"
     ]
    }
   ],
   "source": [
    "b = np.arange(10).reshape(5,2)\n",
    "print(b)"
   ]
  },
  {
   "cell_type": "code",
   "execution_count": 5,
   "metadata": {},
   "outputs": [
    {
     "data": {
      "text/plain": [
       "2"
      ]
     },
     "execution_count": 5,
     "metadata": {},
     "output_type": "execute_result"
    }
   ],
   "source": [
    "np.ndim(b)"
   ]
  },
  {
   "cell_type": "code",
   "execution_count": 9,
   "metadata": {},
   "outputs": [
    {
     "name": "stdout",
     "output_type": "stream",
     "text": [
      "[ 2  4  6  8 10 12 14 16 18]\n"
     ]
    }
   ],
   "source": [
    "c= np.array([2*i for i in range(1,10)])\n",
    "print(c)"
   ]
  },
  {
   "cell_type": "code",
   "execution_count": 16,
   "metadata": {},
   "outputs": [
    {
     "name": "stdout",
     "output_type": "stream",
     "text": [
      "[ 0.  5. 10. 15. 20. 25.]\n",
      "[[ 0.]\n",
      " [ 5.]\n",
      " [10.]\n",
      " [15.]\n",
      " [20.]\n",
      " [25.]]\n"
     ]
    }
   ],
   "source": [
    "d = np.linspace(0,25,6)\n",
    "print(d)\n",
    "print(d[:, np.newaxis])"
   ]
  },
  {
   "cell_type": "code",
   "execution_count": 24,
   "metadata": {},
   "outputs": [
    {
     "name": "stdout",
     "output_type": "stream",
     "text": [
      "[[0.         0.         0.         0.         0.        ]\n",
      " [0.         0.         0.         0.         0.        ]\n",
      " [0.         0.         0.87279481 0.         0.88219337]\n",
      " [0.         0.         0.         0.         0.90876251]\n",
      " [0.9931348  0.         0.         0.         0.        ]\n",
      " [0.90632589 0.         0.         0.         0.        ]\n",
      " [0.         0.9749356  0.         0.         0.        ]\n",
      " [0.         0.         0.         0.         0.        ]\n",
      " [0.         0.         0.         0.         0.        ]\n",
      " [0.         0.         0.         0.         0.        ]]\n",
      "  (2, 2)\t0.8727948101852733\n",
      "  (2, 4)\t0.8821933703880097\n",
      "  (3, 4)\t0.9087625063749707\n",
      "  (4, 0)\t0.9931347993441261\n",
      "  (5, 0)\t0.9063258940474044\n",
      "  (6, 1)\t0.9749356036698672\n"
     ]
    }
   ],
   "source": [
    "from scipy import sparse\n",
    "\n",
    "X = np.random.random((10,5))\n",
    "X[X < 0.85] = 0\n",
    "X_csr = sparse.csr_matrix(X)\n",
    "\n",
    "print(X)\n",
    "\n",
    "print(X_csr)"
   ]
  },
  {
   "cell_type": "code",
   "execution_count": 27,
   "metadata": {},
   "outputs": [
    {
     "name": "stdout",
     "output_type": "stream",
     "text": [
      "[[ 1.15793709  0.20090012 -0.74602528  0.88279224  0.45497618  1.38849463\n",
      "   1.86962132  0.76889007  0.36534959  1.59176597]\n",
      " [-0.15349566 -0.93263008  0.99391333  0.98904746 -0.49280213 -0.42540383\n",
      "  -1.67235069  0.6240381   0.97085152  0.80614213]\n",
      " [-2.34791601  0.40305553  0.83342524  1.0139124   0.75092438  0.12110063\n",
      "  -0.87538565 -0.51997612 -1.03032494 -0.25944016]\n",
      " [-0.63428537 -0.85942598  0.78328534  0.77224648 -1.12914993  0.00931375\n",
      "  -0.0473344  -0.25550817 -0.68532407 -0.45509361]\n",
      " [ 0.4612779  -0.24934913  0.7654349  -0.58456608  0.80012752 -0.03714154\n",
      "  -1.56009427 -0.77676275 -0.14049436  0.76631393]]\n"
     ]
    }
   ],
   "source": [
    "e = np.random.randn(5, 10)\n",
    "print(e)"
   ]
  },
  {
   "cell_type": "code",
   "execution_count": 32,
   "metadata": {},
   "outputs": [
    {
     "name": "stdout",
     "output_type": "stream",
     "text": [
      "[1 2 2 2 3 4 4 4 6 6]\n"
     ]
    }
   ],
   "source": [
    "f = np.array([1.3, 1.5, 2.3, 2.5, 3.3, 3.5, 4.4, 4.5, 5.5, 6.5])\n",
    "g = np.around(f).astype(int)\n",
    "\n",
    "print(g)"
   ]
  },
  {
   "cell_type": "code",
   "execution_count": 38,
   "metadata": {},
   "outputs": [
    {
     "name": "stdout",
     "output_type": "stream",
     "text": [
      "[[74 70 60 16 10]\n",
      " [89 32 62 68 55]\n",
      " [25 56 65 31 68]\n",
      " [67 78 92 63 54]]\n"
     ]
    }
   ],
   "source": [
    "h = (np.random.rand(4,5)*100).astype(int)\n",
    "print(h)"
   ]
  },
  {
   "cell_type": "code",
   "execution_count": 45,
   "metadata": {},
   "outputs": [
    {
     "name": "stdout",
     "output_type": "stream",
     "text": [
      "[[25 56 65]\n",
      " [67 78 92]]\n"
     ]
    }
   ],
   "source": [
    "print(h[2:,:3])"
   ]
  }
 ],
 "metadata": {
  "kernelspec": {
   "display_name": "base",
   "language": "python",
   "name": "python3"
  },
  "language_info": {
   "codemirror_mode": {
    "name": "ipython",
    "version": 3
   },
   "file_extension": ".py",
   "mimetype": "text/x-python",
   "name": "python",
   "nbconvert_exporter": "python",
   "pygments_lexer": "ipython3",
   "version": "3.11.5"
  }
 },
 "nbformat": 4,
 "nbformat_minor": 2
}
