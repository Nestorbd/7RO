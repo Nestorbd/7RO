{
 "cells": [
  {
   "cell_type": "code",
   "execution_count": 30,
   "metadata": {},
   "outputs": [],
   "source": [
    "import numpy as np\n",
    "Q=np.zeros((21,4),dtype=int)"
   ]
  },
  {
   "cell_type": "code",
   "execution_count": 31,
   "metadata": {},
   "outputs": [],
   "source": [
    "R=np.zeros((21,4),dtype=int)"
   ]
  },
  {
   "cell_type": "code",
   "execution_count": 32,
   "metadata": {},
   "outputs": [],
   "source": [
    "v=0.9 # Factor de aprendizaje learning rate\n",
    "y=0.8 # Factor de descuento discount factor"
   ]
  },
  {
   "cell_type": "code",
   "execution_count": 33,
   "metadata": {},
   "outputs": [
    {
     "data": {
      "text/plain": [
       "array([[-1, -1, -1, -1],\n",
       "       [ 1, -1, -1, -1],\n",
       "       [ 2,  1, -1, -1],\n",
       "       [ 3,  2,  1, -1],\n",
       "       [ 4,  3,  2,  1],\n",
       "       [ 5,  4,  3,  2],\n",
       "       [ 6,  5,  4,  3],\n",
       "       [ 7,  6,  5,  4],\n",
       "       [ 8,  7,  6,  5],\n",
       "       [ 9,  8,  7,  6],\n",
       "       [10,  9,  8,  7],\n",
       "       [11, 10,  9,  8],\n",
       "       [12, 11, 10,  9],\n",
       "       [13, 12, 11, 10],\n",
       "       [14, 13, 12, 11],\n",
       "       [15, 14, 13, 12],\n",
       "       [16, 15, 14, 13],\n",
       "       [17, 16, 15, 14],\n",
       "       [18, 17, 16, 15],\n",
       "       [19, 18, 17, 16],\n",
       "       [20, 19, 18, 17]], dtype=int64)"
      ]
     },
     "execution_count": 33,
     "metadata": {},
     "output_type": "execute_result"
    }
   ],
   "source": [
    " # Tabla de transiciones\n",
    "import pandas as pd\n",
    "df= pd.read_csv(\"T.csv\",header=None)\n",
    "T=df.to_numpy()\n",
    "\n",
    "for i, fila in enumerate(T):\n",
    "    for j, elemento in enumerate(fila):\n",
    "        # if(T[i,j]%5 == 0):\n",
    "        #     R[i,j] = 50\n",
    "        if(T[i,j] == 1):\n",
    "            R[i,j] = 100\n",
    "T"
   ]
  },
  {
   "cell_type": "code",
   "execution_count": 34,
   "metadata": {},
   "outputs": [
    {
     "data": {
      "text/plain": [
       "array([[  0,   0,   0,   0],\n",
       "       [100,   0,   0,   0],\n",
       "       [  0, 100,   0,   0],\n",
       "       [  0,   0, 100,   0],\n",
       "       [  0,   0,   0, 100],\n",
       "       [  0,   0,   0,   0],\n",
       "       [  0,   0,   0,   0],\n",
       "       [  0,   0,   0,   0],\n",
       "       [  0,   0,   0,   0],\n",
       "       [  0,   0,   0,   0],\n",
       "       [  0,   0,   0,   0],\n",
       "       [  0,   0,   0,   0],\n",
       "       [  0,   0,   0,   0],\n",
       "       [  0,   0,   0,   0],\n",
       "       [  0,   0,   0,   0],\n",
       "       [  0,   0,   0,   0],\n",
       "       [  0,   0,   0,   0],\n",
       "       [  0,   0,   0,   0],\n",
       "       [  0,   0,   0,   0],\n",
       "       [  0,   0,   0,   0],\n",
       "       [  0,   0,   0,   0]])"
      ]
     },
     "execution_count": 34,
     "metadata": {},
     "output_type": "execute_result"
    }
   ],
   "source": [
    "R"
   ]
  },
  {
   "cell_type": "code",
   "execution_count": 35,
   "metadata": {},
   "outputs": [
    {
     "name": "stdout",
     "output_type": "stream",
     "text": [
      "Jugador uno ha ganado:  50212\n",
      "Jugador dos ha ganado:  49788\n"
     ]
    }
   ],
   "source": [
    "#Seleccionamos un estado al azar\n",
    "J1_wins=0\n",
    "J2_wins=0\n",
    "\n",
    "turno=0\n",
    "partida=0\n",
    "\n",
    "s=20\n",
    "while(partida<100000):\n",
    "    a=np.random.randint(4)\n",
    "\n",
    "    while(T[s,a] >= s):\n",
    "        a=np.random.randint(4)\n",
    "\n",
    "    if((partida%2 ==0 and turno%2 == 0) or (partida%2 !=0 and turno%2 != 0)):\n",
    "\n",
    "        siguiente=T[s,a]\n",
    "        Q[s,a]=(1-v)*Q[s,a]+v*(R[s,a]+y*max(Q[siguiente,]))\n",
    "        # print (\"Turno \",turno+1,\"J1 -->\",siguiente)\n",
    "        if(siguiente == 1):\n",
    "            J1_wins+=1\n",
    "        elif(siguiente < 1):\n",
    "            J2_wins+=1\n",
    "    else:\n",
    "        siguiente=T[s,a]\n",
    "        # print (\"Turno \",turno+1,\"J2 -->\",siguiente)\n",
    "        if(siguiente == 1):\n",
    "            J2_wins+=1\n",
    "        elif(siguiente < 1):\n",
    "            J1_wins+=1\n",
    "    s = siguiente\n",
    "    turno+=1\n",
    "    if(siguiente <= 1):\n",
    "        partida+=1\n",
    "        turno=0\n",
    "        s=20\n",
    "print(\"Jugador uno ha ganado: \", J1_wins)\n",
    "print(\"Jugador dos ha ganado: \", J2_wins)\n",
    "    "
   ]
  },
  {
   "cell_type": "code",
   "execution_count": 36,
   "metadata": {},
   "outputs": [
    {
     "data": {
      "text/plain": [
       "array([[ 0,  0,  0,  0],\n",
       "       [ 0,  0,  0,  0],\n",
       "       [ 0, 99, 19, 19],\n",
       "       [ 0, 79, 99, 19],\n",
       "       [ 0, 79, 79, 99],\n",
       "       [ 0, 79, 79, 79],\n",
       "       [ 0, 63, 79, 79],\n",
       "       [ 0, 63, 63, 79],\n",
       "       [ 0, 63, 63, 63],\n",
       "       [ 0, 50, 63, 63],\n",
       "       [ 0, 50, 50, 63],\n",
       "       [ 0, 50, 50, 50],\n",
       "       [ 0, 39, 50, 50],\n",
       "       [ 0, 39, 39, 50],\n",
       "       [ 0, 39, 39, 39],\n",
       "       [ 0, 31, 39, 39],\n",
       "       [ 0, 31, 31, 39],\n",
       "       [ 0, 31, 31, 31],\n",
       "       [ 0, 24, 31, 31],\n",
       "       [ 0, 24, 24, 31],\n",
       "       [ 0, 24, 24, 24]])"
      ]
     },
     "execution_count": 36,
     "metadata": {},
     "output_type": "execute_result"
    }
   ],
   "source": [
    "Q"
   ]
  },
  {
   "cell_type": "code",
   "execution_count": 37,
   "metadata": {},
   "outputs": [
    {
     "name": "stdout",
     "output_type": "stream",
     "text": [
      "Jugador uno ha ganado:  79975\n",
      "Jugador dos ha ganado:  20025\n"
     ]
    }
   ],
   "source": [
    "J1_wins=0\n",
    "J2_wins=0\n",
    "\n",
    "turno=0\n",
    "partida=0\n",
    "\n",
    "s=20\n",
    "while(partida<100000):\n",
    "    a=np.random.randint(4)\n",
    "\n",
    "    if(turno%2 == 0):\n",
    "        siguiente=T[s,np.argmax(Q[s,])]\n",
    "        # print (\"Turno \",turno+1,\"J1 -->\",siguiente)\n",
    "        if(siguiente == 1):\n",
    "            J1_wins+=1\n",
    "        elif(siguiente < 1):\n",
    "            J2_wins+=1\n",
    "    else:\n",
    "        siguiente=T[s,a]\n",
    "        # print (\"Turno \",turno+1,\"J2 -->\",siguiente)\n",
    "        if(siguiente == 1):\n",
    "            J2_wins+=1\n",
    "        elif(siguiente < 1):\n",
    "            J1_wins+=1\n",
    "    s = siguiente\n",
    "    turno+=1\n",
    "    if(siguiente <= 1):\n",
    "        partida+=1\n",
    "        turno=0\n",
    "        s=20\n",
    "print(\"Jugador uno ha ganado: \", J1_wins)\n",
    "print(\"Jugador dos ha ganado: \", J2_wins)\n",
    "\n"
   ]
  },
  {
   "cell_type": "code",
   "execution_count": 39,
   "metadata": {},
   "outputs": [
    {
     "name": "stdout",
     "output_type": "stream",
     "text": [
      "estado: 1  accion: 1 valor: -1\n",
      "estado: 2  accion: 1 valor: 1\n",
      "estado: 3  accion: 2 valor: 1\n",
      "estado: 4  accion: 3 valor: 1\n",
      "estado: 5  accion: 4 valor: 1\n",
      "estado: 6  accion: 2 valor: 4\n",
      "estado: 7  accion: 3 valor: 4\n",
      "estado: 8  accion: 4 valor: 4\n",
      "estado: 9  accion: 2 valor: 7\n",
      "estado: 10  accion: 3 valor: 7\n",
      "estado: 11  accion: 4 valor: 7\n",
      "estado: 12  accion: 2 valor: 10\n",
      "estado: 13  accion: 3 valor: 10\n",
      "estado: 14  accion: 4 valor: 10\n",
      "estado: 15  accion: 2 valor: 13\n",
      "estado: 16  accion: 3 valor: 13\n",
      "estado: 17  accion: 4 valor: 13\n",
      "estado: 18  accion: 2 valor: 16\n",
      "estado: 19  accion: 3 valor: 16\n",
      "estado: 20  accion: 4 valor: 16\n",
      "estado: 21  accion: 2 valor: 19\n"
     ]
    }
   ],
   "source": [
    "for t in range(0,21):\n",
    " print (\"estado:\",t+1,\" accion:\",np.argmax(Q[t,])+1, \"valor:\", T[t,np.argmax(Q[t,])])"
   ]
  },
  {
   "cell_type": "markdown",
   "metadata": {},
   "source": []
  }
 ],
 "metadata": {
  "kernelspec": {
   "display_name": "Python 3.9.1 64-bit",
   "language": "python",
   "name": "python3"
  },
  "language_info": {
   "codemirror_mode": {
    "name": "ipython",
    "version": 3
   },
   "file_extension": ".py",
   "mimetype": "text/x-python",
   "name": "python",
   "nbconvert_exporter": "python",
   "pygments_lexer": "ipython3",
   "version": "3.9.1"
  },
  "vscode": {
   "interpreter": {
    "hash": "478e2cd68cfde0d7d963116f2e3fda36a31599ecb465db3b2b23bd69b67e91d9"
   }
  }
 },
 "nbformat": 4,
 "nbformat_minor": 2
}
