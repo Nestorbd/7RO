{
 "cells": [
  {
   "cell_type": "code",
   "execution_count": 1,
   "metadata": {},
   "outputs": [
    {
     "name": "stdout",
     "output_type": "stream",
     "text": [
      "Realizando acción: Mover A a 3\n",
      "Realizando acción: Mover B a 3\n"
     ]
    },
    {
     "ename": "IndexError",
     "evalue": "pop from empty list",
     "output_type": "error",
     "traceback": [
      "\u001b[1;31m---------------------------------------------------------------------------\u001b[0m",
      "\u001b[1;31mIndexError\u001b[0m                                Traceback (most recent call last)",
      "Cell \u001b[1;32mIn[1], line 48\u001b[0m\n\u001b[0;32m     45\u001b[0m plan_inicial \u001b[38;5;241m=\u001b[39m [accion1, accion2]  \u001b[38;5;66;03m# Agrega más acciones según sea necesario\u001b[39;00m\n\u001b[0;32m     47\u001b[0m \u001b[38;5;66;03m# Aplicar STRIPS\u001b[39;00m\n\u001b[1;32m---> 48\u001b[0m strips(plan_inicial, estado_inicial, [accion1, accion2], estado_objetivo)\n",
      "Cell \u001b[1;32mIn[1], line 29\u001b[0m, in \u001b[0;36mstrips\u001b[1;34m(plan, estado_inicial, acciones, estado_objetivo)\u001b[0m\n\u001b[0;32m     26\u001b[0m estado_actual \u001b[38;5;241m=\u001b[39m estado_inicial\n\u001b[0;32m     28\u001b[0m \u001b[38;5;28;01mwhile\u001b[39;00m estado_actual \u001b[38;5;241m!=\u001b[39m estado_objetivo:\n\u001b[1;32m---> 29\u001b[0m     accion \u001b[38;5;241m=\u001b[39m plan\u001b[38;5;241m.\u001b[39mpop(\u001b[38;5;241m0\u001b[39m)\n\u001b[0;32m     30\u001b[0m     \u001b[38;5;28mprint\u001b[39m(\u001b[38;5;124mf\u001b[39m\u001b[38;5;124m\"\u001b[39m\u001b[38;5;124mRealizando acción: \u001b[39m\u001b[38;5;132;01m{\u001b[39;00maccion\u001b[38;5;132;01m}\u001b[39;00m\u001b[38;5;124m\"\u001b[39m)\n\u001b[0;32m     31\u001b[0m     estado_actual \u001b[38;5;241m=\u001b[39m aplicar_efectos(estado_actual, accion\u001b[38;5;241m.\u001b[39mefectos)\n",
      "\u001b[1;31mIndexError\u001b[0m: pop from empty list"
     ]
    }
   ],
   "source": [
    "class Estado:\n",
    "    def __init__(self, bloques):\n",
    "        self.bloques = bloques\n",
    "\n",
    "    def __str__(self):\n",
    "        return str(self.bloques)\n",
    "\n",
    "\n",
    "class Accion:\n",
    "    def __init__(self, nombre, precondiciones, efectos):\n",
    "        self.nombre = nombre\n",
    "        self.precondiciones = precondiciones\n",
    "        self.efectos = efectos\n",
    "\n",
    "    def __str__(self):\n",
    "        return self.nombre\n",
    "\n",
    "\n",
    "def aplicar_efectos(estado, efectos):\n",
    "    nuevo_estado = Estado(estado.bloques.copy())\n",
    "    nuevo_estado.bloques.update(efectos)\n",
    "    return nuevo_estado\n",
    "\n",
    "\n",
    "def strips(plan, estado_inicial, acciones, estado_objetivo):\n",
    "    estado_actual = estado_inicial\n",
    "\n",
    "    while estado_actual != estado_objetivo:\n",
    "        accion = plan.pop(0)\n",
    "        print(f\"Realizando acción: {accion}\")\n",
    "        estado_actual = aplicar_efectos(estado_actual, accion.efectos)\n",
    "\n",
    "    print(\"¡Objetivo alcanzado!\")\n",
    "\n",
    "# Definir estados\n",
    "estado_inicial = Estado({'A': 'B', 'B': 'A', 'C': 'D', 'D': None})\n",
    "estado_objetivo = Estado({'A': None, 'B': 'A', 'C': 'B', 'D': 'C'})\n",
    "\n",
    "# Definir acciones\n",
    "accion1 = Accion(\"Mover A a 3\", {'A': 'B'}, {'A': None})\n",
    "accion2 = Accion(\"Mover B a 3\", {'B': 'A'}, {'B': 'A'})\n",
    "# Definir más acciones según sea necesario\n",
    "\n",
    "# Definir plan inicial (orden de acciones para alcanzar el objetivo)\n",
    "plan_inicial = [accion1, accion2]  # Agrega más acciones según sea necesario\n",
    "\n",
    "# Aplicar STRIPS\n",
    "strips(plan_inicial, estado_inicial, [accion1, accion2], estado_objetivo)\n"
   ]
  }
 ],
 "metadata": {
  "kernelspec": {
   "display_name": "base",
   "language": "python",
   "name": "python3"
  },
  "language_info": {
   "codemirror_mode": {
    "name": "ipython",
    "version": 3
   },
   "file_extension": ".py",
   "mimetype": "text/x-python",
   "name": "python",
   "nbconvert_exporter": "python",
   "pygments_lexer": "ipython3",
   "version": "3.11.5"
  }
 },
 "nbformat": 4,
 "nbformat_minor": 2
}
