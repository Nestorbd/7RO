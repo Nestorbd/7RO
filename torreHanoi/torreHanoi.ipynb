{
 "cells": [
  {
   "cell_type": "code",
   "execution_count": 11,
   "metadata": {},
   "outputs": [],
   "source": [
    "import numpy as np\n",
    "Q=np.zeros((27,6),dtype=float)"
   ]
  },
  {
   "cell_type": "code",
   "execution_count": 12,
   "metadata": {},
   "outputs": [],
   "source": [
    "R=np.zeros((27,6),dtype=int)\n",
    "R[17,1]=100\n",
    "R[23,3]=100"
   ]
  },
  {
   "cell_type": "code",
   "execution_count": 13,
   "metadata": {},
   "outputs": [],
   "source": [
    "v=0.9 # Factor de aprendizaje learning rate\n",
    "y=0.8 # Factor de descuento discount factor"
   ]
  },
  {
   "cell_type": "code",
   "execution_count": 14,
   "metadata": {},
   "outputs": [
    {
     "data": {
      "text/plain": [
       "array([[ 1,  2, -1, -1, -1, -1],\n",
       "       [-1,  3,  0,  2, -1, -1],\n",
       "       [ 4, -1, -1, -1,  0,  1],\n",
       "       [-1, -1,  5,  6,  1, -1],\n",
       "       [-1, -1,  2, -1,  8,  7],\n",
       "       [ 3,  6, -1, -1, -1,  8],\n",
       "       [ 9, -1, -1, -1,  5,  3],\n",
       "       [-1, 10,  8,  4, -1, -1],\n",
       "       [ 7,  4, -1,  5, -1, -1],\n",
       "       [-1, -1,  6, -1, 11, 12],\n",
       "       [-1, -1, 13, 14,  7, -1],\n",
       "       [12,  9, -1, -1, -1, 15],\n",
       "       [-1, -1, 11,  9, 16, -1],\n",
       "       [10, 14, -1, 17, -1, -1],\n",
       "       [-1, -1, 18, -1, 13, 10],\n",
       "       [19, 20, -1, 11, -1, -1],\n",
       "       [-1, 12, 21, 22, -1, -1],\n",
       "       [23, 26, -1, -1, -1, 13],\n",
       "       [14, -1, -1, -1, 24, 25],\n",
       "       [-1, -1, 15, 20, -1, -1],\n",
       "       [-1, -1, 22, -1, 15, 19],\n",
       "       [16, 22, -1, 24, -1, -1],\n",
       "       [20, -1, -1, -1, 21, 16],\n",
       "       [-1, -1, 17, 26, 25, -1],\n",
       "       [25, 18, -1, -1, -1, 21],\n",
       "       [-1, 23, 24, 18, -1, -1],\n",
       "       [-1, -1, -1, -1, 17, 23]], dtype=int64)"
      ]
     },
     "execution_count": 14,
     "metadata": {},
     "output_type": "execute_result"
    }
   ],
   "source": [
    " # Tabla de transiciones\n",
    "import pandas as pd\n",
    "df= pd.read_csv(\"T.csv\",header=None)\n",
    "T=df.to_numpy()\n",
    "T"
   ]
  },
  {
   "cell_type": "code",
   "execution_count": 15,
   "metadata": {},
   "outputs": [],
   "source": [
    "#Seleccionamos un estado al azar\n",
    "s=0 #Partimos del estado inicial\n",
    "entrenar=0\n",
    "while(entrenar<100000):\n",
    "    a=np.random.randint(6) # Acción aleatoria al azar número entero en [0,5]\n",
    "    while T[s,a]==-1:\n",
    "        a=np.random.randint(6)\n",
    "    # T[s,a] es una transición posible\n",
    "    siguiente=T[s,a] # Estado siguiente\n",
    "    Q[s,a]=(1-v)*Q[s,a]+v*(R[s,a]+y*max(Q[siguiente,]))\n",
    "    # print (s,\"-->\",siguiente)\n",
    "    if siguiente!=26:\n",
    "        s=siguiente # Estado siguiente\n",
    "    else:\n",
    "        s=0\n",
    "    entrenar+=1\n"
   ]
  },
  {
   "cell_type": "code",
   "execution_count": 16,
   "metadata": {},
   "outputs": [],
   "source": [
    "#Seleccionamos un estado al azar\n",
    "entrenar=0\n",
    "while(entrenar<100000):\n",
    "    s=np.random.randint(26) #estado aleatorio [0,25]\n",
    "    a=np.random.randint(6) # Acción aleatoria al azar número entero en [0,5]\n",
    "    while T[s,a]==-1:\n",
    "        a=np.random.randint(6)\n",
    "    # T[s,a] es una transición posible\n",
    "    siguiente=T[s,a] # Estado siguiente\n",
    "    Q[s,a]=(1-v)*Q[s,a]+v*(R[s,a]+y*max(Q[siguiente,]))\n",
    "    entrenar+=1"
   ]
  },
  {
   "cell_type": "code",
   "execution_count": 17,
   "metadata": {},
   "outputs": [
    {
     "data": {
      "text/plain": [
       "array([[  0,   0,   0,   0,   0,   0],\n",
       "       [  0,   0,   0,   0,   0,   0],\n",
       "       [  0,   0,   0,   0,   0,   0],\n",
       "       [  0,   0,   0,   0,   0,   0],\n",
       "       [  0,   0,   0,   0,   0,   0],\n",
       "       [  0,   0,   0,   0,   0,   0],\n",
       "       [  0,   0,   0,   0,   0,   0],\n",
       "       [  0,   0,   0,   0,   0,   0],\n",
       "       [  0,   0,   0,   0,   0,   0],\n",
       "       [  0,   0,   0,   0,   0,   0],\n",
       "       [  0,   0,   0,   0,   0,   0],\n",
       "       [  0,   0,   0,   0,   0,   0],\n",
       "       [  0,   0,   0,   0,   0,   0],\n",
       "       [  0,   0,   0,   0,   0,   0],\n",
       "       [  0,   0,   0,   0,   0,   0],\n",
       "       [  0,   0,   0,   0,   0,   0],\n",
       "       [  0,   0,   0,   0,   0,   0],\n",
       "       [  0, 100,   0,   0,   0,   0],\n",
       "       [  0,   0,   0,   0,   0,   0],\n",
       "       [  0,   0,   0,   0,   0,   0],\n",
       "       [  0,   0,   0,   0,   0,   0],\n",
       "       [  0,   0,   0,   0,   0,   0],\n",
       "       [  0,   0,   0,   0,   0,   0],\n",
       "       [  0,   0,   0, 100,   0,   0],\n",
       "       [  0,   0,   0,   0,   0,   0],\n",
       "       [  0,   0,   0,   0,   0,   0],\n",
       "       [  0,   0,   0,   0,   0,   0]])"
      ]
     },
     "execution_count": 17,
     "metadata": {},
     "output_type": "execute_result"
    }
   ],
   "source": [
    "R"
   ]
  },
  {
   "cell_type": "code",
   "execution_count": 18,
   "metadata": {},
   "outputs": [
    {
     "data": {
      "text/plain": [
       "array([[ 20.97152,  26.2144 ,   0.     ,   0.     ,   0.     ,   0.     ],\n",
       "       [  0.     ,  20.97152,  20.97152,  26.2144 ,   0.     ,   0.     ],\n",
       "       [ 32.768  ,   0.     ,   0.     ,   0.     ,  20.97152,  20.97152],\n",
       "       [  0.     ,   0.     ,  26.2144 ,  20.97152,  20.97152,   0.     ],\n",
       "       [  0.     ,   0.     ,  26.2144 ,   0.     ,  32.768  ,  40.96   ],\n",
       "       [ 20.97152,  20.97152,   0.     ,   0.     ,   0.     ,  32.768  ],\n",
       "       [ 20.97152,   0.     ,   0.     ,   0.     ,  26.2144 ,  20.97152],\n",
       "       [  0.     ,  51.2    ,  32.768  ,  32.768  ,   0.     ,   0.     ],\n",
       "       [ 40.96   ,  32.768  ,   0.     ,  26.2144 ,   0.     ,   0.     ],\n",
       "       [  0.     ,   0.     ,  20.97152,   0.     ,  20.97152,  26.2144 ],\n",
       "       [  0.     ,   0.     ,  64.     ,  51.2    ,  40.96   ,   0.     ],\n",
       "       [ 26.2144 ,  20.97152,   0.     ,   0.     ,   0.     ,  20.97152],\n",
       "       [  0.     ,   0.     ,  20.97152,  20.97152,  32.768  ,   0.     ],\n",
       "       [ 51.2    ,  51.2    ,   0.     ,  80.     ,   0.     ,   0.     ],\n",
       "       [  0.     ,   0.     ,  51.2    ,   0.     ,  64.     ,  51.2    ],\n",
       "       [ 20.97152,  26.2144 ,   0.     ,  20.97152,   0.     ,   0.     ],\n",
       "       [  0.     ,  26.2144 ,  40.96   ,  32.768  ,   0.     ,   0.     ],\n",
       "       [ 80.     , 100.     ,   0.     ,   0.     ,   0.     ,  64.     ],\n",
       "       [ 51.2    ,   0.     ,   0.     ,   0.     ,  51.2    ,  64.     ],\n",
       "       [  0.     ,   0.     ,  20.97152,  26.2144 ,   0.     ,   0.     ],\n",
       "       [  0.     ,   0.     ,  32.768  ,   0.     ,  20.97152,  20.97152],\n",
       "       [ 32.768  ,  32.768  ,   0.     ,  51.2    ,   0.     ,   0.     ],\n",
       "       [ 26.2144 ,   0.     ,   0.     ,   0.     ,  40.96   ,  32.768  ],\n",
       "       [  0.     ,   0.     ,  80.     , 100.     ,  64.     ,   0.     ],\n",
       "       [ 64.     ,  51.2    ,   0.     ,   0.     ,   0.     ,  40.96   ],\n",
       "       [  0.     ,  80.     ,  51.2    ,  51.2    ,   0.     ,   0.     ],\n",
       "       [  0.     ,   0.     ,   0.     ,   0.     ,   0.     ,   0.     ]])"
      ]
     },
     "execution_count": 18,
     "metadata": {},
     "output_type": "execute_result"
    }
   ],
   "source": [
    "Q"
   ]
  },
  {
   "cell_type": "code",
   "execution_count": 19,
   "metadata": {},
   "outputs": [
    {
     "name": "stdout",
     "output_type": "stream",
     "text": [
      "s 0  accion: 1\n",
      "s 1  accion: 3\n",
      "s 2  accion: 0\n",
      "s 3  accion: 2\n",
      "s 4  accion: 5\n",
      "s 5  accion: 5\n",
      "s 6  accion: 4\n",
      "s 7  accion: 1\n",
      "s 8  accion: 0\n",
      "s 9  accion: 5\n",
      "s 10  accion: 2\n",
      "s 11  accion: 0\n",
      "s 12  accion: 4\n",
      "s 13  accion: 3\n",
      "s 14  accion: 4\n",
      "s 15  accion: 1\n",
      "s 16  accion: 2\n",
      "s 17  accion: 1\n",
      "s 18  accion: 5\n",
      "s 19  accion: 3\n",
      "s 20  accion: 2\n",
      "s 21  accion: 3\n",
      "s 22  accion: 4\n",
      "s 23  accion: 3\n",
      "s 24  accion: 0\n",
      "s 25  accion: 1\n"
     ]
    }
   ],
   "source": [
    "for t in range(0,26):\n",
    " print (\"s\",t,\" accion:\",np.argmax(Q[t,]))\n"
   ]
  }
 ],
 "metadata": {
  "kernelspec": {
   "display_name": "base",
   "language": "python",
   "name": "python3"
  },
  "language_info": {
   "codemirror_mode": {
    "name": "ipython",
    "version": 3
   },
   "file_extension": ".py",
   "mimetype": "text/x-python",
   "name": "python",
   "nbconvert_exporter": "python",
   "pygments_lexer": "ipython3",
   "version": "3.11.5"
  }
 },
 "nbformat": 4,
 "nbformat_minor": 2
}
